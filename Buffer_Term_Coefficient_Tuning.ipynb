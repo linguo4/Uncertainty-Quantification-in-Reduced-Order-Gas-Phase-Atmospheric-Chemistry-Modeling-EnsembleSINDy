{
 "cells": [
  {
   "cell_type": "code",
   "execution_count": 2,
   "id": "9f941e30",
   "metadata": {},
   "outputs": [],
   "source": [
    "import numpy as np\n",
    "import pysindy as ps\n",
    "import h5py\n",
    "from tqdm import trange\n",
    "from sklearn.linear_model import LinearRegression\n",
    "from sklearn.metrics import r2_score\n",
    "import func_timeout\n",
    "import warnings\n",
    "import matplotlib.pyplot as plt\n",
    "from matplotlib.patches import Patch\n",
    "from matplotlib.lines import Line2D\n",
    "warnings.filterwarnings(\"ignore\", category=UserWarning)"
   ]
  },
  {
   "cell_type": "markdown",
   "id": "c0ab593e",
   "metadata": {},
   "source": [
    "### Load in data and preprocess"
   ]
  },
  {
   "cell_type": "code",
   "execution_count": 2,
   "id": "74b54026",
   "metadata": {},
   "outputs": [],
   "source": [
    "n_data = 3000\n",
    "d = h5py.File(\"data\\\\ref_data_train.jld\", \"r\")\n",
    "ref_data = d['ref_data_train'][:]\n",
    "ref_params = d['ref_params_train'][:]\n",
    "t = d['times_train'][:]\n",
    "times = t.copy()\n",
    "dt = 60"
   ]
  },
  {
   "cell_type": "code",
   "execution_count": 3,
   "id": "f7a2e7a5",
   "metadata": {},
   "outputs": [],
   "source": [
    "ref_param = np.empty((len(ref_params), 9))\n",
    "for i in range(len(ref_params)):\n",
    "    for j in range(9):\n",
    "        ref_param[i,j] = ref_params[i][j]\n",
    "ref_params = ref_param"
   ]
  },
  {
   "cell_type": "code",
   "execution_count": 4,
   "id": "005d280a",
   "metadata": {},
   "outputs": [],
   "source": [
    "EO = 4\n",
    "ref_data[:,:,5] = EO * ref_data[:,:,5]"
   ]
  },
  {
   "cell_type": "markdown",
   "id": "8653d0b0",
   "metadata": {},
   "source": [
    "### PCA"
   ]
  },
  {
   "cell_type": "code",
   "execution_count": 5,
   "id": "a9fa45bd",
   "metadata": {},
   "outputs": [],
   "source": [
    "# Importing standardscalar module \n",
    "from sklearn.preprocessing import StandardScaler\n",
    "  \n",
    "scalar = StandardScaler(with_std=False)\n",
    "reshaped_data = np.concatenate([ref_data[i] for i in range(ref_data.shape[0])])\n",
    "# fitting\n",
    "scalar.fit(reshaped_data)\n",
    "scaled_data = scalar.transform(reshaped_data)\n",
    "\n",
    "\n",
    "\n",
    "# Importing PCA\n",
    "from sklearn.decomposition import PCA\n",
    "pca = PCA(n_components = 3)\n",
    "pca.fit(scaled_data)\n",
    "x_pca = [pca.transform(scaled_data[i*48: i*48+48, :]) for i in range(ref_data.shape[0])]\n",
    "x = np.concatenate(x_pca)"
   ]
  },
  {
   "cell_type": "code",
   "execution_count": 6,
   "id": "168a97b2",
   "metadata": {},
   "outputs": [
    {
     "data": {
      "text/plain": [
       "0.999794743101411"
      ]
     },
     "execution_count": 6,
     "metadata": {},
     "output_type": "execute_result"
    }
   ],
   "source": [
    "sum(pca.explained_variance_ratio_)"
   ]
  },
  {
   "cell_type": "code",
   "execution_count": 7,
   "id": "40c1ba37",
   "metadata": {},
   "outputs": [],
   "source": [
    "data = x_pca"
   ]
  },
  {
   "cell_type": "markdown",
   "id": "615b4662",
   "metadata": {},
   "source": [
    "### Construct libraries for E-SINDy"
   ]
  },
  {
   "cell_type": "code",
   "execution_count": 8,
   "id": "3c556ec4",
   "metadata": {
    "scrolled": true
   },
   "outputs": [],
   "source": [
    "### define function for hv and emission along time\n",
    "def hv_func(hv_shift, t):\n",
    "    hv_1 = max(np.sin((t + 1500 + hv_shift) / 720 * np.pi - np.pi / 2), 0)\n",
    "    hv_2 = max((np.sin((t + 1500 + hv_shift) / 720 * np.pi - np.pi / 2)+1.0)/2, 0)\n",
    "    return np.array([hv_1 * 0.9 + hv_2 * 0.1])\n",
    "\n",
    "def emission_func(const, init_shift, t):\n",
    "    return 0.95*const + 0.05*const*np.sin((t +1500) /(1440/2)*np.pi - init_shift)"
   ]
  },
  {
   "cell_type": "code",
   "execution_count": 9,
   "id": "d1cd48fb",
   "metadata": {},
   "outputs": [],
   "source": [
    "depositions =     np.array([-0.4/(100*12) * 60, \n",
    "    -4/(100*15)* 60,\n",
    "    -0.5/(100*2) * 60,\n",
    "    -0.1/(100*2) * 60,\n",
    "    -0.03/2 * 60,\n",
    "    -0.1/100 * 60]).reshape(1,6)"
   ]
  },
  {
   "cell_type": "code",
   "execution_count": 10,
   "id": "ca7ecdb0",
   "metadata": {
    "scrolled": true
   },
   "outputs": [
    {
     "name": "stdout",
     "output_type": "stream",
     "text": [
      "[[ 0  1  2  2  2  2  2  2  2  2  2  2  2  2]\n",
      " [ 3  3  3  3  4  5  6  7  8  9 10 11 11 11]\n",
      " [12 12 12 12 12 12 12 12 12 12 12 12 12 13]]\n"
     ]
    }
   ],
   "source": [
    "# Combine control variables with data\n",
    "multi_U = []\n",
    "for i in range(n_data):\n",
    "    p = np.repeat(ref_params[i,0], t.shape[0])\n",
    "    T = np.repeat(ref_params[i,1], t.shape[0])\n",
    "    Tp =p*T\n",
    "    depo = np.repeat(depositions, t.shape[0], axis=0)\n",
    "    hv = np.concatenate([hv_func( ref_params[i,-1], ti) for ti in t-1500])\n",
    "    emission1 = 0.0005 * np.stack([emission_func( ref_params[i,2], ref_params[i,5], ti) for ti in t-1500])\n",
    "    emission2 = 0.0001 * np.stack([emission_func( ref_params[i,3],  ref_params[i,6], ti) for ti in t-1500])\n",
    "    emission3 = 0.0008 * np.stack([emission_func( ref_params[i,4],  ref_params[i,7], ti) for ti in t-1500])\n",
    "    multi_U.append(np.hstack((emission1.reshape(-1,1), emission2.reshape(-1,1), emission3.reshape(-1,1), depo, hv.reshape(-1,1), Tp.reshape(-1,1))))\n",
    "\n",
    "# Custome library for U\n",
    "poly_library = ps.PolynomialLibrary(degree=4, include_bias=False)\n",
    "library_functions = [lambda x: x]\n",
    "library_function_names = [\n",
    "    lambda x: x\n",
    "]\n",
    "\n",
    "# lib for emissions\n",
    "custom_library1 = ps.CustomLibrary(\n",
    "    library_functions=library_functions, \n",
    "    function_names=library_function_names\n",
    ")\n",
    "\n",
    "# lib for other parameters\n",
    "custom_library2 = ps.CustomLibrary(\n",
    "    library_functions=library_functions, \n",
    "    function_names=library_function_names\n",
    ")\n",
    "\n",
    "inputs_temp = np.tile([i for i in range(14)], 3)\n",
    "inputs_per_library = np.reshape(inputs_temp, (3, 14))\n",
    "inputs_per_library[0, 3:] = 2\n",
    "inputs_per_library[1, :3] = 3\n",
    "inputs_per_library[1, 12:] = 11\n",
    "inputs_per_library[2, :12] = 12\n",
    "print(inputs_per_library)\n",
    "\n",
    "tensor_array = [[1, 0, 1]]\n",
    "\n",
    "generalized_library = ps.GeneralizedLibrary(\n",
    "    [poly_library, custom_library1, custom_library2],\n",
    "    tensor_array=tensor_array,\n",
    "    inputs_per_library=inputs_per_library,\n",
    ")\n",
    "\n",
    "feature_names = [\"pc1\", \"pc2\", \"pc3\", \"emission_NO2\", \"emission_HCHO\", \"emission_H2O2\", \"depo1\",\"depo2\",\"depo3\",\"depo4\", \"depo5\", \"depo6\", \"hv\", \"p*T\"]\n",
    "optimizer = ps.STLSQ(threshold=1e-5)\n",
    "u = np.concatenate(multi_U)\n",
    "model = ps.SINDy()\n",
    "dx= np.concatenate(model.differentiate(data, t=dt, multiple_trajectories=True))\n",
    "generalized_library.fit(np.hstack((x, u)))\n",
    "lib = generalized_library.transform(np.hstack((x, u)))"
   ]
  },
  {
   "cell_type": "markdown",
   "id": "728260c8",
   "metadata": {},
   "source": [
    "### Training ensemble model with bootstrapping"
   ]
  },
  {
   "cell_type": "code",
   "execution_count": 11,
   "id": "59c01ca4",
   "metadata": {
    "scrolled": true
   },
   "outputs": [
    {
     "name": "stdout",
     "output_type": "stream",
     "text": [
      "(0.3, 30)\n",
      "training model....\n"
     ]
    },
    {
     "name": "stderr",
     "output_type": "stream",
     "text": [
      "100%|████████████████████████████████████████████████████████████████████████████████| 100/100 [01:25<00:00,  1.16it/s]\n"
     ]
    }
   ],
   "source": [
    "ensemble = True\n",
    "lib_ensemble = True\n",
    "n_features = lib.shape[1]\n",
    "COEF_THRESHOLD = 1e-14\n",
    "n_models = 100\n",
    "import random\n",
    "random.seed(42)\n",
    "np.random.seed(42)\n",
    "res = []\n",
    "per = 0.3\n",
    "n_candidates_to_drop = 30\n",
    "print((per, n_candidates_to_drop))\n",
    "print(\"training model....\")\n",
    "n_subset = int(per * n_data * 48)\n",
    "ensemble_coef = []\n",
    "for i in trange(n_models):\n",
    "    coef = np.zeros((3, n_features))\n",
    "    if ensemble:\n",
    "        rand_inds = np.random.choice(range(n_data * 48), n_subset, replace=False)\n",
    "        lib_new = np.take(lib, rand_inds, axis=0)\n",
    "        dx_new = np.take(dx, rand_inds, axis=0)\n",
    "    else:\n",
    "        lib_new = lib\n",
    "        dx_new = dx\n",
    "    if lib_ensemble:\n",
    "        keep_inds = np.sort(np.random.choice(range(n_features), n_features - n_candidates_to_drop, replace=False))\n",
    "        lib_new = lib_new.take(keep_inds, axis=1)\n",
    "    else:\n",
    "        keep_inds = range(n_features)\n",
    "\n",
    "    optimizer.fit(lib_new, dx_new)\n",
    "    coef[:, keep_inds] = optimizer.coef_\n",
    "    ind_ = np.abs(coef) > COEF_THRESHOLD\n",
    "    coef__ = np.zeros(coef.shape)\n",
    "    for i in range(ind_.shape[0]):\n",
    "        if np.any(ind_[i]):\n",
    "            coef__[i, ind_[i]] = (LinearRegression(fit_intercept=False).fit(lib[:, ind_[i]], dx[:, i]).coef_)\n",
    "    ensemble_coef.append(coef__)"
   ]
  },
  {
   "cell_type": "markdown",
   "id": "a5714a66",
   "metadata": {},
   "source": [
    "### Prepare validation data and helper functions benchmark"
   ]
  },
  {
   "cell_type": "code",
   "execution_count": 12,
   "id": "a79247fb",
   "metadata": {},
   "outputs": [],
   "source": [
    "from numbalsoda import lsoda_sig, lsoda, dop853\n",
    "import numba as nb"
   ]
  },
  {
   "cell_type": "code",
   "execution_count": 13,
   "id": "23ce431b",
   "metadata": {},
   "outputs": [],
   "source": [
    "def calc_rmse(prediction, reference):\n",
    "    prediction = prediction.copy()\n",
    "    reference = reference.copy()\n",
    "    if len(reference.shape) == 3:\n",
    "        reference[:,:,5] =  reference[:,:,5] / EO\n",
    "        prediction[:,:,5] =  prediction[:,:,5] / EO\n",
    "    else:\n",
    "        reference[:,5] =  reference[:,5] / EO\n",
    "        prediction[:,5] =  prediction[:,5] / EO\n",
    "    return np.sqrt(np.mean((prediction - reference)**2))\n",
    "\n",
    "def calc_rmse_O3(prediction, reference):\n",
    "    prediction = prediction.copy()\n",
    "    reference = reference.copy()\n",
    "    if len(reference.shape) == 3:\n",
    "        r =  reference[:,:,5] / EO\n",
    "        p =  prediction[:,:,5] / EO\n",
    "    else:\n",
    "        r =  reference[:,5] / EO\n",
    "        p =  prediction[:,5] / EO\n",
    "    return np.sqrt(np.mean((p - r)**2))\n",
    "def inv_transform(x):\n",
    "    return scalar.inverse_transform(pca.inverse_transform(x))"
   ]
  },
  {
   "cell_type": "code",
   "execution_count": 14,
   "id": "16da3f6d",
   "metadata": {},
   "outputs": [],
   "source": [
    "d_validate = h5py.File(\"data\\\\ref_data_validate.jld\", \"r\")\n",
    "ref_params_validate = d_validate['ref_params_validate'][:]\n",
    "ref_data_validate = d_validate['ref_data_validate'][:]\n",
    "times_validate = d_validate['times_validate'][:]\n",
    "ref_param = np.empty((len(ref_params_validate), 9))\n",
    "for i in range(len(ref_params_validate)):\n",
    "    for j in range(9):\n",
    "        ref_param[i,j] = ref_params_validate[i][j]\n",
    "ref_params_validate = ref_param\n",
    "ref_data_validate[:,:,5] = EO * ref_data_validate[:,:,5]\n",
    "multi_U_validate1 = []\n",
    "    \n",
    "for i in range(ref_params_validate.shape[0]):\n",
    "    pT = ref_params_validate[i][0]* ref_params_validate[i][1]\n",
    "    multi_U_validate1.append(np.concatenate((ref_params_validate[i][2:8], [pT], [ref_params_validate[i][-1]]), axis = 0))\n",
    "reshaped_data_validate = np.concatenate([ref_data_validate[i] for i in range(ref_data_validate.shape[0])])\n",
    "scaled_data_validate = scalar.transform(reshaped_data_validate)\n",
    "validate_pca = [pca.transform(scaled_data_validate[i*24*9: i*24*9+24*9, :]) for i in range(375)]"
   ]
  },
  {
   "cell_type": "code",
   "execution_count": 15,
   "id": "6107cb13",
   "metadata": {},
   "outputs": [],
   "source": [
    "times_validate-=1500"
   ]
  },
  {
   "cell_type": "code",
   "execution_count": 16,
   "id": "f2224a73",
   "metadata": {},
   "outputs": [],
   "source": [
    "def r2_s(y_true, y_pred):\n",
    "    sst = sum((y_true-np.mean(y_true))**2)\n",
    "    ssr = sum((y_true-y_pred)**2)\n",
    "    return 1-ssr/sst"
   ]
  },
  {
   "cell_type": "markdown",
   "id": "4bd312ef",
   "metadata": {},
   "source": [
    "### Tuning buffer term coefficients on validation dataset"
   ]
  },
  {
   "cell_type": "code",
   "execution_count": 17,
   "id": "d49df266",
   "metadata": {
    "scrolled": true
   },
   "outputs": [
    {
     "name": "stderr",
     "output_type": "stream",
     "text": [
      "100%|████████████████████████████████████████████████████████████████████████████████| 100/100 [06:50<00:00,  4.10s/it]\n"
     ]
    },
    {
     "name": "stdout",
     "output_type": "stream",
     "text": [
      "calculating validation error....\n"
     ]
    },
    {
     "name": "stderr",
     "output_type": "stream",
     "text": [
      "100%|███████████████████████████████████████████████████████████████████████████████| 375/375 [00:01<00:00, 286.56it/s]\n"
     ]
    },
    {
     "name": "stdout",
     "output_type": "stream",
     "text": [
      "0.03677403858537533 0.02037059083405931 0.3659733333333334 0.9774368878147204 0.9958845760033371\n"
     ]
    },
    {
     "name": "stderr",
     "output_type": "stream",
     "text": [
      "100%|████████████████████████████████████████████████████████████████████████████████| 100/100 [07:30<00:00,  4.50s/it]\n"
     ]
    },
    {
     "name": "stdout",
     "output_type": "stream",
     "text": [
      "calculating validation error....\n"
     ]
    },
    {
     "name": "stderr",
     "output_type": "stream",
     "text": [
      "100%|███████████████████████████████████████████████████████████████████████████████| 375/375 [00:01<00:00, 269.50it/s]\n"
     ]
    },
    {
     "name": "stdout",
     "output_type": "stream",
     "text": [
      "0.036658156073241015 0.020339370808067067 0.36613333333333337 0.9780215234626728 0.9963498553425172\n"
     ]
    },
    {
     "name": "stderr",
     "output_type": "stream",
     "text": [
      "100%|████████████████████████████████████████████████████████████████████████████████| 100/100 [07:35<00:00,  4.56s/it]\n"
     ]
    },
    {
     "name": "stdout",
     "output_type": "stream",
     "text": [
      "calculating validation error....\n"
     ]
    },
    {
     "name": "stderr",
     "output_type": "stream",
     "text": [
      "100%|███████████████████████████████████████████████████████████████████████████████| 375/375 [00:01<00:00, 265.99it/s]\n"
     ]
    },
    {
     "name": "stdout",
     "output_type": "stream",
     "text": [
      "0.036703203750615206 0.02048076577674981 0.3659733333333334 0.9781763088104348 0.9962576510778547\n"
     ]
    },
    {
     "name": "stderr",
     "output_type": "stream",
     "text": [
      "100%|████████████████████████████████████████████████████████████████████████████████| 100/100 [07:56<00:00,  4.76s/it]\n"
     ]
    },
    {
     "name": "stdout",
     "output_type": "stream",
     "text": [
      "calculating validation error....\n"
     ]
    },
    {
     "name": "stderr",
     "output_type": "stream",
     "text": [
      "100%|███████████████████████████████████████████████████████████████████████████████| 375/375 [00:01<00:00, 287.15it/s]\n"
     ]
    },
    {
     "name": "stdout",
     "output_type": "stream",
     "text": [
      "0.036877103770181545 0.020668702088166954 0.36634666666666665 0.9783596909970399 0.9962762462626616\n"
     ]
    },
    {
     "name": "stderr",
     "output_type": "stream",
     "text": [
      "100%|████████████████████████████████████████████████████████████████████████████████| 100/100 [08:08<00:00,  4.88s/it]\n"
     ]
    },
    {
     "name": "stdout",
     "output_type": "stream",
     "text": [
      "calculating validation error....\n"
     ]
    },
    {
     "name": "stderr",
     "output_type": "stream",
     "text": [
      "100%|███████████████████████████████████████████████████████████████████████████████| 375/375 [00:01<00:00, 312.92it/s]\n"
     ]
    },
    {
     "name": "stdout",
     "output_type": "stream",
     "text": [
      "0.036607252337378764 0.02048676635128374 0.3662133333333334 0.9781377247416666 0.9963757090944095\n"
     ]
    },
    {
     "name": "stderr",
     "output_type": "stream",
     "text": [
      "100%|████████████████████████████████████████████████████████████████████████████████| 100/100 [08:07<00:00,  4.87s/it]\n"
     ]
    },
    {
     "name": "stdout",
     "output_type": "stream",
     "text": [
      "calculating validation error....\n"
     ]
    },
    {
     "name": "stderr",
     "output_type": "stream",
     "text": [
      "100%|███████████████████████████████████████████████████████████████████████████████| 375/375 [00:01<00:00, 291.83it/s]\n"
     ]
    },
    {
     "name": "stdout",
     "output_type": "stream",
     "text": [
      "0.03664757020516439 0.020591194403529335 0.36629333333333336 0.9786477210859795 0.996443527657736\n"
     ]
    },
    {
     "name": "stderr",
     "output_type": "stream",
     "text": [
      "100%|████████████████████████████████████████████████████████████████████████████████| 100/100 [08:31<00:00,  5.12s/it]\n"
     ]
    },
    {
     "name": "stdout",
     "output_type": "stream",
     "text": [
      "calculating validation error....\n"
     ]
    },
    {
     "name": "stderr",
     "output_type": "stream",
     "text": [
      "100%|███████████████████████████████████████████████████████████████████████████████| 375/375 [00:01<00:00, 247.24it/s]\n"
     ]
    },
    {
     "name": "stdout",
     "output_type": "stream",
     "text": [
      "0.036373100347080654 0.02033477795153575 0.36664 0.978259974887684 0.9964206331099812\n"
     ]
    },
    {
     "name": "stderr",
     "output_type": "stream",
     "text": [
      "100%|████████████████████████████████████████████████████████████████████████████████| 100/100 [07:57<00:00,  4.78s/it]\n"
     ]
    },
    {
     "name": "stdout",
     "output_type": "stream",
     "text": [
      "calculating validation error....\n"
     ]
    },
    {
     "name": "stderr",
     "output_type": "stream",
     "text": [
      "100%|███████████████████████████████████████████████████████████████████████████████| 375/375 [00:01<00:00, 235.93it/s]\n"
     ]
    },
    {
     "name": "stdout",
     "output_type": "stream",
     "text": [
      "0.04240479856949427 0.020680414491243537 0.38186666666666663 0.9894676564601567 0.9984179931309756\n"
     ]
    },
    {
     "name": "stderr",
     "output_type": "stream",
     "text": [
      "100%|████████████████████████████████████████████████████████████████████████████████| 100/100 [08:37<00:00,  5.18s/it]\n"
     ]
    },
    {
     "name": "stdout",
     "output_type": "stream",
     "text": [
      "calculating validation error....\n"
     ]
    },
    {
     "name": "stderr",
     "output_type": "stream",
     "text": [
      "100%|███████████████████████████████████████████████████████████████████████████████| 375/375 [00:01<00:00, 196.94it/s]\n"
     ]
    },
    {
     "name": "stdout",
     "output_type": "stream",
     "text": [
      "0.03390223602044421 0.021317786501724608 0.4516266666666667 0.9899501920171562 0.9927920142376976\n"
     ]
    },
    {
     "name": "stderr",
     "output_type": "stream",
     "text": [
      "100%|████████████████████████████████████████████████████████████████████████████████| 100/100 [08:18<00:00,  4.98s/it]\n"
     ]
    },
    {
     "name": "stdout",
     "output_type": "stream",
     "text": [
      "calculating validation error....\n"
     ]
    },
    {
     "name": "stderr",
     "output_type": "stream",
     "text": [
      "100%|███████████████████████████████████████████████████████████████████████████████| 375/375 [00:02<00:00, 142.12it/s]\n"
     ]
    },
    {
     "name": "stdout",
     "output_type": "stream",
     "text": [
      "0.04980645648108036 0.02729348383127847 0.6380533333333334 0.8782231483295955 0.885677299971465\n"
     ]
    }
   ],
   "source": [
    "coefs = [0, 1e-9,1e-8, 1e-7, 1e-6, 1e-5, 1e-4, 1e-3, 1e-2, 1e-1]\n",
    "res = []\n",
    "for coef in coefs:\n",
    "    ## define function for inference using numba to speedup    \n",
    "    def make_lsoda_func(param):\n",
    "        @nb.cfunc(lsoda_sig)\n",
    "        def rhs(t, u, du, p):\n",
    "            y = nb.carray(u, (3,))\n",
    "            p_ = nb.carray(p, (8,))\n",
    "            x0 = y[0]\n",
    "            x1 = y[1]\n",
    "            x2 = y[2]\n",
    "\n",
    "            ## 4th order polynomial\n",
    "            y_ = np.array([x0, x1, x2, x0**2, x0*x1, x0*x2, x1**2, x1*x2, x2**2, x0**3, x0**2*x1, \n",
    "                  x0**2*x2, x0*x1**2, x0*x1*x2, x0*x2**2, x1**3, x1**2*x2, x1*x2**2, \n",
    "                  x2**3, x0**4, x0**3*x1, x0**3*x2, x0**2*x1**2, x0**2*x1*x2, x0**2*x2**2, \n",
    "                  x0*x1**3, x0*x1**2*x2, x0*x1*x2**2, x0*x2**3, x1**4, x1**3*x2, x1**2*x2**2, x1*x2**3, x2**4])\n",
    "            hv_shift = p_[-1]\n",
    "            hv_1 = max(np.sin((t + 1500 + hv_shift) / 720 * np.pi - np.pi / 2), 0)\n",
    "            hv_2 = max((np.sin((t + 1500 + hv_shift) / 720 * np.pi - np.pi / 2)+1.0)/2, 0)\n",
    "            hv = np.array([hv_1 * 0.9 + hv_2 * 0.1])\n",
    "\n",
    "            pT = np.array([p_[6]])\n",
    "            emission1 = p_[0]\n",
    "            emission2 = p_[1]\n",
    "            emission3 = p_[2]\n",
    "            emission1_shift = p_[3]\n",
    "            emission2_shift = p_[4]\n",
    "            emission3_shift = p_[5]\n",
    "            emission1 = 0.0005* np.array([0.95*emission1 + 0.05*emission1*np.sin((t +1500) /(1440/2)*np.pi - emission1_shift)])\n",
    "            emission2 = 0.0001* np.array([0.95*emission2 + 0.05*emission2*np.sin((t +1500) /(1440/2)*np.pi - emission2_shift)])\n",
    "            emission3 = 0.0008* np.array([0.95*emission3 + 0.05*emission3*np.sin((t +1500) /(1440/2)*np.pi - emission3_shift)])\n",
    "            depos = np.array([-0.4/(100*12) * 60, -4/(100*15)* 60,-0.5/(100*2) * 60,-0.1/(100*2) * 60,-0.03/2 * 60,-0.1/100 * 60])\n",
    "            ## interleave combinations of hv, p, T with y_\n",
    "            temp = np.empty(len(y_)*2)\n",
    "            for idx, (item1, item2) in enumerate(zip(hv*y_, pT*y_)):\n",
    "                temp[idx*2] = item1\n",
    "                temp[idx*2+1] = item2\n",
    "\n",
    "            θ = np.concatenate((y_, emission1,emission2, emission3, depos, hv, pT, temp))\n",
    "            du[0] = np.sum(param[0,:]*θ)-coef * y_[0]**5\n",
    "            du[1] = np.sum(param[1,:]*θ)-coef * y_[1]**5\n",
    "            du[2] = np.sum(param[2,:]*θ)-coef * y_[2]**5\n",
    "        return rhs\n",
    "\n",
    "    \n",
    "    ensemble_pred_validate = []\n",
    "    stable_ensemble_validate = []\n",
    "\n",
    "    for k in trange(len(ensemble_coef)):\n",
    "        rhs = make_lsoda_func(ensemble_coef[k])\n",
    "        funcptr = rhs.address\n",
    "        u0s = np.stack(validate_pca)[:,0,:]\n",
    "        Us = np.stack(multi_U_validate1)\n",
    "        @nb.njit(parallel=True)\n",
    "        def simulate():\n",
    "            sol = np.empty((375, 216, 3))\n",
    "            succ = np.empty(375)\n",
    "            for i in nb.prange(375):\n",
    "                u0 = u0s[i]\n",
    "                p = Us[i]\n",
    "                usol, success = lsoda(funcptr, u0, times_validate, data = p, rtol=1.0e-3, atol=1.0e-6)\n",
    "                if len(np.argwhere(np.isnan(usol)))!=0 or np.max(np.abs(usol))>5:\n",
    "                    success = 0\n",
    "                sol[i] = usol\n",
    "                succ[i] = success\n",
    "            return sol, succ\n",
    "        sims, succ = simulate()\n",
    "        ensemble_pred_validate.append(sims)\n",
    "        stable_ensemble_validate.append(succ)\n",
    "\n",
    "    print(\"calculating validation error....\")\n",
    "    mean_sims = []\n",
    "    for j in trange(375):\n",
    "        temp = []\n",
    "        for i in range(100):\n",
    "            if stable_ensemble_validate[i][j]==1:\n",
    "                if np.max(abs(ensemble_pred_validate[i][j]))<5:\n",
    "                    temp.append(inv_transform(ensemble_pred_validate[i][j]))\n",
    "                else:\n",
    "                    stable_ensemble_validate[i][j]=0\n",
    "        mean_sims.append(np.mean(temp, axis=0))\n",
    "\n",
    "    stable_rate = np.sum(stable_ensemble_validate)/100/375\n",
    "    rmse = calc_rmse(np.stack(mean_sims), ref_data_validate)\n",
    "    rmse_O3 = calc_rmse_O3(np.stack(mean_sims), ref_data_validate)\n",
    "\n",
    "    CI_percentage = np.linspace(0,95, 20)\n",
    "    inclusion_3pc = []\n",
    "    for ci in CI_percentage:\n",
    "        mean_sims = []\n",
    "        above_sims = []\n",
    "        below_sims = []\n",
    "        for j in range(375):\n",
    "            temp = []\n",
    "            for i in range(100):\n",
    "                if stable_ensemble_validate[i][j]==1:\n",
    "                    if np.max(abs(ensemble_pred_validate[i][j]))<5:\n",
    "                        temp.append(ensemble_pred_validate[i][j])\n",
    "                    else:\n",
    "                        stable_ensemble_validate[i][j]=0\n",
    "            mean_sims.append(np.mean(temp, axis=0))\n",
    "            above_sims.append(np.percentile(np.stack(temp), 100-ci/2, axis=0))\n",
    "            below_sims.append(np.percentile(np.stack(temp), ci/2, axis=0))\n",
    "        inclusion_3pc.append(np.mean((np.stack(above_sims)>=validate_pca) * (np.stack(below_sims)<=validate_pca), (0,1)))\n",
    "    r2_pc=0\n",
    "    for i in range(3):\n",
    "        r2_pc += r2_score( CI_percentage/100+0.05 ,np.stack(inclusion_3pc)[::-1,i])\n",
    "    r2_pc /= 3\n",
    "        \n",
    "        \n",
    "    inclusion_11species = []\n",
    "    for ci in CI_percentage:\n",
    "        mean_sims = []\n",
    "        above_sims = []\n",
    "        below_sims = []\n",
    "        for j in range(375):\n",
    "            temp = []\n",
    "            for i in range(100):\n",
    "                if stable_ensemble_validate[i][j]==1:\n",
    "                    if np.max(abs(ensemble_pred_validate[i][j]))<5:\n",
    "                        temp.append(inv_transform(ensemble_pred_validate[i][j]))\n",
    "                    else:\n",
    "                        stable_ensemble_validate[i][j]=0\n",
    "            mean_sims.append(np.mean(temp, axis=0))\n",
    "            above_sims.append(np.percentile(np.stack(temp), 100-ci/2, axis=0))\n",
    "            below_sims.append(np.percentile(np.stack(temp), ci/2, axis=0))\n",
    "        inclusion_11species.append(np.mean((np.stack(above_sims)>=ref_data_validate) * (np.stack(below_sims)<=ref_data_validate), (0,1)))\n",
    "    r2_O3 = r2_s(CI_percentage/100+0.05, np.stack(inclusion_11species)[::-1,5])\n",
    "    print(rmse, rmse_O3, stable_rate, r2_pc, r2_O3)\n",
    "    res.append((rmse, rmse_O3, stable_rate, r2_pc, r2_O3))\n",
    "    del stable_ensemble_validate\n",
    "    del ensemble_pred_validate\n"
   ]
  },
  {
   "cell_type": "code",
   "execution_count": 8,
   "id": "c36c65d2",
   "metadata": {
    "scrolled": true
   },
   "outputs": [],
   "source": [
    "## Load in saved tuning results and generate plots\n",
    "with open(\"result\\\\buffer_coef_tuning.npy\", 'rb') as f:\n",
    "        res = np.load(f)\n",
    "rmse = res[0]\n",
    "rmse_O3 = res[1]\n",
    "stable = res[2]\n",
    "r2_pc = res[3]\n",
    "r2_O3 = res[4]"
   ]
  },
  {
   "cell_type": "markdown",
   "id": "5b54a0f7",
   "metadata": {},
   "source": [
    "### Process results and generate plots"
   ]
  },
  {
   "cell_type": "code",
   "execution_count": 4,
   "id": "4d7011e3",
   "metadata": {},
   "outputs": [
    {
     "name": "stderr",
     "output_type": "stream",
     "text": [
      "C:\\Users\\Dio\\AppData\\Local\\Temp\\ipykernel_17860\\3248657068.py:2: RuntimeWarning: divide by zero encountered in divide\n",
      "  rmse = (rmse-rmse[0])/rmse[0] * 100\n",
      "C:\\Users\\Dio\\AppData\\Local\\Temp\\ipykernel_17860\\3248657068.py:2: RuntimeWarning: invalid value encountered in divide\n",
      "  rmse = (rmse-rmse[0])/rmse[0] * 100\n"
     ]
    }
   ],
   "source": [
    "# rmse = np.array([x[0] for x in res])\n",
    "# rmse = (rmse-rmse[0])/rmse[0] * 100\n",
    "# rmse_O3 = np.array([x[1] for x in res])\n",
    "# rmse_O3 = (rmse_O3-rmse_O3[0])/rmse_O3[0] * 100\n",
    "# stable = np.array([x[2] for x in res])*100\n",
    "# r2_O3 = np.array([np.mean(x[4]) for x in res])*100\n",
    "# r2_pc = np.array([np.mean(x[3]) for x in res])*100"
   ]
  },
  {
   "cell_type": "code",
   "execution_count": 16,
   "id": "b5fe27e3",
   "metadata": {},
   "outputs": [
    {
     "data": {
      "image/png": "[encoded data removed]",
      "text/plain": [
       "<Figure size 400x300 with 1 Axes>"
      ]
     },
     "metadata": {},
     "output_type": "display_data"
    }
   ],
   "source": [
    "x = range(10)\n",
    "plt.figure(figsize=(4,3))\n",
    "plt.plot(x, rmse, 'o-', label='RMSE of original species as compared to zero buffer term')\n",
    "plt.plot(x, rmse_O3, 'o-', label='Ozone RMSE as compared to zero buffer term')\n",
    "plt.plot(x, r2_pc, 'o-', label='Average R-squared of latent species calibration')\n",
    "plt.plot(x, r2_O3, 'o-', label='R-squared of ozone calibration')\n",
    "plt.plot(x, stable, 'o-', label='Stable solution rate')\n",
    "\n",
    "plt.legend(loc='upper left', bbox_to_anchor=(-0.005, 0.8), prop={'size': 5.4})\n",
    "plt.ylabel(\"Percentage (%)\")\n",
    "plt.xlabel(\"Buffer term coefficient\")\n",
    "plt.xticks(np.arange(10), ['0', '10$^{-9}$', '10$^{-8}$', '10$^{-7}$', '10$^{-6}$', '10$^{-5}$', '10$^{-4}$', '10$^{-3}$', '10$^{-2}$','10$^{-1}$'])\n",
    "plt.savefig('figure\\\\buffer_term.svg', format='svg', dpi=1200, bbox_inches=\"tight\")"
   ]
  },
  {
   "cell_type": "code",
   "execution_count": 21,
   "id": "9f1c204b",
   "metadata": {},
   "outputs": [],
   "source": [
    "# np.save(\"result\\\\buffer_coef_tuning.npy\", np.stack((rmse, rmse_O3, stable, r2_pc, r2_O3)))"
   ]
  },
  {
   "cell_type": "code",
   "execution_count": null,
   "id": "0405942f",
   "metadata": {},
   "outputs": [],
   "source": []
  }
 ],
 "metadata": {
  "kernelspec": {
   "display_name": "Python 3 (ipykernel)",
   "language": "python",
   "name": "python3"
  },
  "language_info": {
   "codemirror_mode": {
    "name": "ipython",
    "version": 3
   },
   "file_extension": ".py",
   "mimetype": "text/x-python",
   "name": "python",
   "nbconvert_exporter": "python",
   "pygments_lexer": "ipython3",
   "version": "3.10.12"
  }
 },
 "nbformat": 4,
 "nbformat_minor": 5
}
