{
 "cells": [
  {
   "cell_type": "code",
   "execution_count": 1,
   "id": "9f941e30",
   "metadata": {},
   "outputs": [],
   "source": [
    "import numpy as np\n",
    "import pysindy as ps\n",
    "import h5py, tqdm\n",
    "from tqdm import trange\n",
    "from sklearn.linear_model import LinearRegression\n",
    "import func_timeout\n",
    "import warnings\n",
    "import matplotlib.pyplot as plt\n",
    "from matplotlib.patches import Patch\n",
    "from matplotlib.lines import Line2D\n",
    "import matplotlib.pyplot as plt\n",
    "import matplotlib\n",
    "import numpy as np\n",
    "import random\n",
    "warnings.filterwarnings(\"ignore\", category=UserWarning)\n",
    "random.seed(42)\n",
    "np.random.seed(42)"
   ]
  },
  {
   "cell_type": "markdown",
   "id": "cb3b7b6b",
   "metadata": {},
   "source": [
    "## 1. Data preparation and model training"
   ]
  },
  {
   "cell_type": "markdown",
   "id": "750983e2",
   "metadata": {},
   "source": [
    "### Load in data and preprocess"
   ]
  },
  {
   "cell_type": "code",
   "execution_count": 2,
   "id": "74b54026",
   "metadata": {},
   "outputs": [],
   "source": [
    "n_data = 3000\n",
    "d = h5py.File(\"data\\\\ref_data_train.jld\", \"r\")\n",
    "ref_data = d['ref_data_train'][:]\n",
    "ref_params = d['ref_params_train'][:]\n",
    "t = d['times_train'][:]\n",
    "times = t.copy()\n",
    "dt = 60"
   ]
  },
  {
   "cell_type": "code",
   "execution_count": 3,
   "id": "f7a2e7a5",
   "metadata": {},
   "outputs": [],
   "source": [
    "ref_param = np.empty((len(ref_params), 9))\n",
    "for i in range(len(ref_params)):\n",
    "    for j in range(9):\n",
    "        ref_param[i,j] = ref_params[i][j]\n",
    "ref_params = ref_param"
   ]
  },
  {
   "cell_type": "code",
   "execution_count": 4,
   "id": "005d280a",
   "metadata": {},
   "outputs": [],
   "source": [
    "EO = 300\n",
    "ref_data[:,:,0] = EO * ref_data[:,:,0]"
   ]
  },
  {
   "cell_type": "markdown",
   "id": "8653d0b0",
   "metadata": {},
   "source": [
    "### PCA"
   ]
  },
  {
   "cell_type": "code",
   "execution_count": 5,
   "id": "a9fa45bd",
   "metadata": {},
   "outputs": [],
   "source": [
    "# Importing standardscalar module \n",
    "from sklearn.preprocessing import StandardScaler\n",
    "  \n",
    "scalar = StandardScaler(with_std=False)\n",
    "reshaped_data = np.concatenate([ref_data[i] for i in range(ref_data.shape[0])])\n",
    "# fitting\n",
    "scalar.fit(reshaped_data)\n",
    "scaled_data = scalar.transform(reshaped_data)\n",
    "\n",
    "\n",
    "\n",
    "# Importing PCA\n",
    "from sklearn.decomposition import PCA\n",
    "pca = PCA(n_components = 3)\n",
    "pca.fit(scaled_data)\n",
    "x_pca = [pca.transform(scaled_data[i*48: i*48+48, :]) for i in range(ref_data.shape[0])]\n",
    "x = np.concatenate(x_pca)"
   ]
  },
  {
   "cell_type": "code",
   "execution_count": 6,
   "id": "168a97b2",
   "metadata": {},
   "outputs": [
    {
     "data": {
      "text/plain": [
       "0.9999395925549887"
      ]
     },
     "execution_count": 6,
     "metadata": {},
     "output_type": "execute_result"
    }
   ],
   "source": [
    "sum(pca.explained_variance_ratio_)"
   ]
  },
  {
   "cell_type": "code",
   "execution_count": 7,
   "id": "40c1ba37",
   "metadata": {},
   "outputs": [],
   "source": [
    "data = x_pca"
   ]
  },
  {
   "cell_type": "markdown",
   "id": "615b4662",
   "metadata": {},
   "source": [
    "### Construct libraries for E-SINDy"
   ]
  },
  {
   "cell_type": "code",
   "execution_count": 8,
   "id": "3c556ec4",
   "metadata": {
    "scrolled": true
   },
   "outputs": [],
   "source": [
    "### define function for hv and emission along time\n",
    "def hv_func(hv_shift, t):\n",
    "    hv_1 = max(np.sin((t + 1500 + hv_shift) / 720 * np.pi - np.pi / 2), 0)\n",
    "    hv_2 = max((np.sin((t + 1500 + hv_shift) / 720 * np.pi - np.pi / 2)+1.0)/2, 0)\n",
    "    return np.array([hv_1 * 0.9 + hv_2 * 0.1])\n",
    "\n",
    "def emission_func(const, init_shift, t):\n",
    "    return 0.95*const + 0.05*const*np.sin((t +1500) /(1440/2)*np.pi - init_shift)"
   ]
  },
  {
   "cell_type": "code",
   "execution_count": 9,
   "id": "ab4181d3",
   "metadata": {},
   "outputs": [],
   "source": [
    "depositions =     np.array([-0.4/(100*12) * 60, \n",
    "    -4/(100*15)* 60,\n",
    "    -0.5/(100*2) * 60,\n",
    "    -0.1/(100*2) * 60,\n",
    "    -0.03/2 * 60,\n",
    "    -0.1/100 * 60]).reshape(1,6)"
   ]
  },
  {
   "cell_type": "code",
   "execution_count": 10,
   "id": "ca7ecdb0",
   "metadata": {},
   "outputs": [
    {
     "name": "stdout",
     "output_type": "stream",
     "text": [
      "[[ 0  1  2  2  2  2  2  2  2  2  2  2  2  2]\n",
      " [ 3  3  3  3  4  5  6  7  8  9 10 11 11 11]\n",
      " [12 12 12 12 12 12 12 12 12 12 12 12 12 13]]\n"
     ]
    }
   ],
   "source": [
    "# Combine control variables with data\n",
    "multi_U = []\n",
    "for i in range(n_data):\n",
    "    p = np.repeat(ref_params[i,0], t.shape[0])\n",
    "    T = np.repeat(ref_params[i,1], t.shape[0])\n",
    "    Tp =p*T\n",
    "    depo = np.repeat(depositions, t.shape[0], axis=0)\n",
    "    hv = np.concatenate([hv_func( ref_params[i,-1], ti) for ti in t-1500])\n",
    "    emission1 = 0.0005 * np.stack([emission_func( ref_params[i,2], ref_params[i,5], ti) for ti in t-1500])\n",
    "    emission2 = 0.0001 * np.stack([emission_func( ref_params[i,3],  ref_params[i,6], ti) for ti in t-1500])\n",
    "    emission3 = 0.0008 * np.stack([emission_func( ref_params[i,4],  ref_params[i,7], ti) for ti in t-1500])\n",
    "    multi_U.append(np.hstack((emission1.reshape(-1,1), emission2.reshape(-1,1), emission3.reshape(-1,1), depo, hv.reshape(-1,1), Tp.reshape(-1,1))))\n",
    "\n",
    "# Custome library for U\n",
    "poly_library = ps.PolynomialLibrary(degree=4, include_bias=False)\n",
    "library_functions = [lambda x: x]\n",
    "library_function_names = [\n",
    "    lambda x: x\n",
    "]\n",
    "\n",
    "# lib for emissions\n",
    "custom_library1 = ps.CustomLibrary(\n",
    "    library_functions=library_functions, \n",
    "    function_names=library_function_names\n",
    ")\n",
    "\n",
    "# lib for other parameters\n",
    "custom_library2 = ps.CustomLibrary(\n",
    "    library_functions=library_functions, \n",
    "    function_names=library_function_names\n",
    ")\n",
    "\n",
    "inputs_temp = np.tile([i for i in range(14)], 3)\n",
    "inputs_per_library = np.reshape(inputs_temp, (3, 14))\n",
    "inputs_per_library[0, 3:] = 2\n",
    "inputs_per_library[1, :3] = 3\n",
    "inputs_per_library[1, 12:] = 11\n",
    "inputs_per_library[2, :12] = 12\n",
    "print(inputs_per_library)\n",
    "\n",
    "tensor_array = [[1, 0, 1]]\n",
    "\n",
    "generalized_library = ps.GeneralizedLibrary(\n",
    "    [poly_library, custom_library1, custom_library2],\n",
    "    tensor_array=tensor_array,\n",
    "    inputs_per_library=inputs_per_library,\n",
    ")\n",
    "\n",
    "feature_names = [\"pc1\", \"pc2\", \"pc3\", \"emission_NO2\", \"emission_HCHO\", \"emission_H2O2\", \"depo1\",\"depo2\",\"depo3\",\"depo4\", \"depo5\", \"depo6\", \"hv\", \"p*T\"]\n",
    "optimizer = ps.STLSQ(threshold=1e-5)\n",
    "u = np.concatenate(multi_U)\n",
    "model = ps.SINDy()\n",
    "dx= np.concatenate(model.differentiate(data, t=dt, multiple_trajectories=True))\n",
    "generalized_library.fit(np.hstack((x, u)))\n",
    "lib = generalized_library.transform(np.hstack((x, u)))"
   ]
  },
  {
   "cell_type": "markdown",
   "id": "a9979ada",
   "metadata": {},
   "source": [
    "### Training ensemble model..."
   ]
  },
  {
   "cell_type": "code",
   "execution_count": 11,
   "id": "6779614e",
   "metadata": {
    "scrolled": true
   },
   "outputs": [],
   "source": [
    "# ensemble = True\n",
    "# lib_ensemble = True\n",
    "# n_subset = int(0.3 * n_data * 48)\n",
    "# n_candidates_to_drop = 30\n",
    "# ensemble_coef = []\n",
    "# n_features = lib.shape[1]\n",
    "# COEF_THRESHOLD = 1e-14\n",
    "# n_models = 1000\n",
    "# for i in trange(n_models):\n",
    "#     coef = np.zeros((3, n_features))\n",
    "#     if ensemble:\n",
    "#         rand_inds = np.random.choice(range(n_data * 48), n_subset, replace=False)\n",
    "#         lib_new = np.take(lib, rand_inds, axis=0)\n",
    "#         dx_new = np.take(dx, rand_inds, axis=0)\n",
    "#     else:\n",
    "#         lib_new = lib\n",
    "#         dx_new = dx\n",
    "#     if lib_ensemble:\n",
    "#         keep_inds = np.sort(np.random.choice(range(n_features), n_features - n_candidates_to_drop, replace=False))\n",
    "#         lib_new = lib_new.take(keep_inds, axis=1)\n",
    "#     else:\n",
    "#         keep_inds = range(n_features)\n",
    "\n",
    "#     optimizer.fit(lib_new, dx_new)\n",
    "#     coef[:, keep_inds] = optimizer.coef_\n",
    "#     # Unbias part\n",
    "#     ind_ = np.abs(coef) > COEF_THRESHOLD\n",
    "#     coef__ = np.zeros(coef.shape)\n",
    "#     for i in range(ind_.shape[0]):\n",
    "#         if np.any(ind_[i]):\n",
    "#             coef__[i, ind_[i]] = (LinearRegression(fit_intercept=False).fit(lib[:, ind_[i]], dx[:, i]).coef_)\n",
    "#     ensemble_coef.append(coef__)"
   ]
  },
  {
   "cell_type": "code",
   "execution_count": 12,
   "id": "a4e3750d",
   "metadata": {},
   "outputs": [],
   "source": [
    "# np.save(\"result\\\\ensemble_coef_ESINDy_newdata_30per_row_30_col_depo_NO2.npy\", ensemble_coef)\n",
    "with open('result\\\\ensemble_coef_ESINDy_newdata_30per_row_30_col_depo_NO2.npy', 'rb') as f:\n",
    "    ensemble_coef = np.load(f)"
   ]
  },
  {
   "cell_type": "markdown",
   "id": "6e91675c",
   "metadata": {},
   "source": [
    "### Define inference function with numba for speedup"
   ]
  },
  {
   "cell_type": "code",
   "execution_count": 13,
   "id": "a79247fb",
   "metadata": {},
   "outputs": [],
   "source": [
    "from numbalsoda import lsoda_sig, lsoda, dop853\n",
    "import numba as nb\n",
    "\n",
    "def make_lsoda_func(param):\n",
    "    @nb.cfunc(lsoda_sig)\n",
    "    def rhs(t, u, du, p):\n",
    "        y = nb.carray(u, (3,))\n",
    "        p_ = nb.carray(p, (8,))\n",
    "        x0 = y[0]\n",
    "        x1 = y[1]\n",
    "        x2 = y[2]\n",
    "\n",
    "        ## 4th order polynomial\n",
    "        y_ = np.array([x0, x1, x2, x0**2, x0*x1, x0*x2, x1**2, x1*x2, x2**2, x0**3, x0**2*x1, \n",
    "              x0**2*x2, x0*x1**2, x0*x1*x2, x0*x2**2, x1**3, x1**2*x2, x1*x2**2, \n",
    "              x2**3, x0**4, x0**3*x1, x0**3*x2, x0**2*x1**2, x0**2*x1*x2, x0**2*x2**2, \n",
    "              x0*x1**3, x0*x1**2*x2, x0*x1*x2**2, x0*x2**3, x1**4, x1**3*x2, x1**2*x2**2, x1*x2**3, x2**4])\n",
    "        hv_shift = p_[-1]\n",
    "        hv_1 = max(np.sin((t + 1500 + hv_shift) / 720 * np.pi - np.pi / 2), 0)\n",
    "        hv_2 = max((np.sin((t + 1500 + hv_shift) / 720 * np.pi - np.pi / 2)+1.0)/2, 0)\n",
    "        hv = np.array([hv_1 * 0.9 + hv_2 * 0.1])\n",
    "\n",
    "        pT = np.array([p_[6]])\n",
    "        emission1 = p_[0]\n",
    "        emission2 = p_[1]\n",
    "        emission3 = p_[2]\n",
    "        emission1_shift = p_[3]\n",
    "        emission2_shift = p_[4]\n",
    "        emission3_shift = p_[5]\n",
    "        emission1 = 0.0005* np.array([0.95*emission1 + 0.05*emission1*np.sin((t +1500) /(1440/2)*np.pi - emission1_shift)])\n",
    "        emission2 = 0.0001* np.array([0.95*emission2 + 0.05*emission2*np.sin((t +1500) /(1440/2)*np.pi - emission2_shift)])\n",
    "        emission3 = 0.0008* np.array([0.95*emission3 + 0.05*emission3*np.sin((t +1500) /(1440/2)*np.pi - emission3_shift)])\n",
    "        depos = np.array([-0.4/(100*12) * 60, -4/(100*15)* 60,-0.5/(100*2) * 60,-0.1/(100*2) * 60,-0.03/2 * 60,-0.1/100 * 60])\n",
    "        ## interleave combinations of hv, p, T with y_\n",
    "        temp = np.empty(len(y_)*2)\n",
    "        for idx, (item1, item2) in enumerate(zip(hv*y_, pT*y_)):\n",
    "            temp[idx*2] = item1\n",
    "            temp[idx*2+1] = item2\n",
    "\n",
    "        θ = np.concatenate((y_, emission1,emission2, emission3, depos, hv, pT, temp))\n",
    "        du[0] = np.sum(param[0,:]*θ)\n",
    "        du[1] = np.sum(param[1,:]*θ)\n",
    "        du[2] = np.sum(param[2,:]*θ)\n",
    "    return rhs\n"
   ]
  },
  {
   "cell_type": "code",
   "execution_count": 14,
   "id": "12b48a86",
   "metadata": {},
   "outputs": [],
   "source": [
    "d_valid = h5py.File(\"data\\\\ref_data_validate.jld\", \"r\")\n",
    "ref_params_valid = d_valid['ref_params_validate'][:]\n",
    "ref_data_valid = d_valid['ref_data_validate'][:]\n",
    "times_valid = d_valid['times_validate'][:]\n",
    "\n",
    "ref_param = np.empty((len(ref_params_valid), 9))\n",
    "for i in range(len(ref_params_valid)):\n",
    "    for j in range(9):\n",
    "        ref_param[i,j] = ref_params_valid[i][j]\n",
    "ref_params_valid = ref_param\n",
    "ref_data_valid[:,:,0] = EO * ref_data_valid[:,:,0]\n",
    "multi_U_valid = []\n",
    "    \n",
    "for i in range(ref_params_valid.shape[0]):\n",
    "    p = ref_params_valid[i][0]\n",
    "    T = ref_params_valid[i][1]\n",
    "    pT = p*T\n",
    "    multi_U_valid.append(np.concatenate((ref_params_valid[i][2:8], [pT], [ref_params_valid[i][-1]]), axis = 0))\n",
    "reshaped_data_valid = np.concatenate([ref_data_valid[i] for i in range(ref_data_valid.shape[0])])\n",
    "scaled_data_valid = scalar.transform(reshaped_data_valid)\n",
    "valid_pca = [pca.transform(scaled_data_valid[i*24*9: i*24*9+24*9, :]) for i in range(375)]\n"
   ]
  },
  {
   "cell_type": "markdown",
   "id": "eb1e88a6",
   "metadata": {},
   "source": [
    "### Check VALIDATION performance and select better ensemble members"
   ]
  },
  {
   "cell_type": "code",
   "execution_count": 15,
   "id": "1390094e",
   "metadata": {},
   "outputs": [],
   "source": [
    "# ensemble_pred_valid = []\n",
    "# stable_ensemble_valid = []\n",
    "# time_valid = times_valid-1500\n",
    "# for k in trange(len(ensemble_coef)):\n",
    "#     rhs = make_lsoda_func(ensemble_coef[k])\n",
    "#     funcptr = rhs.address\n",
    "#     u0s = np.stack(valid_pca)[:,0,:]\n",
    "#     Us = np.stack(multi_U_valid)\n",
    "\n",
    "#     @nb.njit(parallel=True)\n",
    "#     def simulate():\n",
    "#         sol = np.empty((375, 216, 3))\n",
    "#         succ = np.empty(375)\n",
    "#         for i in nb.prange(375):\n",
    "#             u0 = u0s[i]\n",
    "#             p = Us[i]\n",
    "#             usol, success = lsoda(funcptr, u0, time_valid, data = p, rtol=1.0e-3, atol=1.0e-6)\n",
    "#             if len(np.argwhere(np.isnan(usol)))!=0 or np.max(np.abs(usol))>5:\n",
    "#                 success = 0\n",
    "#             sol[i] = usol\n",
    "#             succ[i] = success\n",
    "#         return sol, succ\n",
    "#     sims, succ = simulate()\n",
    "#     ensemble_pred_valid.append(sims)\n",
    "#     stable_ensemble_valid.append(succ)"
   ]
  },
  {
   "cell_type": "code",
   "execution_count": 16,
   "id": "ec4f103d",
   "metadata": {},
   "outputs": [],
   "source": [
    "# np.save(\"result\\\\1000_ensemble_375_test_ESINDy_validate_depo_NO2.npy\", ensemble_pred_valid)\n",
    "# np.save(\"result\\\\1000_ensemble_375_test_ESINDy_stable_validate_depo_NO2.npy\", stable_ensemble_valid)\n",
    "with open(\"result\\\\1000_ensemble_375_test_ESINDy_validate_depo_NO2.npy\", 'rb') as f:\n",
    "        ensemble_pred_valid = np.load(f)\n",
    "with open(\"result\\\\1000_ensemble_375_test_ESINDy_stable_validate_depo_NO2.npy\", 'rb') as f:\n",
    "        stable_ensemble_valid = np.load(f)"
   ]
  },
  {
   "cell_type": "code",
   "execution_count": 17,
   "id": "23ce431b",
   "metadata": {},
   "outputs": [],
   "source": [
    "def calc_rmse(prediction, reference):\n",
    "    prediction = prediction.copy()\n",
    "    reference = reference.copy()\n",
    "    if len(reference.shape) == 3:\n",
    "        reference[:,:,0] =  reference[:,:,0] / EO\n",
    "        prediction[:,:,0] =  prediction[:,:,0] / EO\n",
    "    else:\n",
    "        reference[:,0] =  reference[:,0] / EO\n",
    "        prediction[:,0] =  prediction[:,0] / EO\n",
    "    return np.sqrt(np.mean((prediction - reference)**2))\n",
    "\n",
    "def calc_rmse_NO2(prediction, reference):\n",
    "    prediction = prediction.copy()\n",
    "    reference = reference.copy()\n",
    "    if len(reference.shape) == 3:\n",
    "        r =  reference[:,:,0] / EO\n",
    "        p =  prediction[:,:,0] / EO\n",
    "    else:\n",
    "        r =  reference[:,0] / EO\n",
    "        p =  prediction[:,0] / EO\n",
    "    return np.sqrt(np.mean((p - r)**2))"
   ]
  },
  {
   "cell_type": "code",
   "execution_count": 18,
   "id": "9a5c17a4",
   "metadata": {},
   "outputs": [
    {
     "name": "stderr",
     "output_type": "stream",
     "text": [
      "100%|██████████████████████████████████████████████████████████████████████████████| 1000/1000 [00:19<00:00, 52.26it/s]\n"
     ]
    }
   ],
   "source": [
    "rmse_valid = -np.ones(np.stack(stable_ensemble_valid).shape)\n",
    "rmse_NO2_valid = -np.ones(np.stack(stable_ensemble_valid).shape)\n",
    "def inv_transform(x):\n",
    "    return scalar.inverse_transform(pca.inverse_transform(x))\n",
    "\n",
    "\n",
    "for i in trange(len(ensemble_pred_valid)):\n",
    "    for j in range(375):\n",
    "        if stable_ensemble_valid[i][j]==1:\n",
    "            if np.max(abs(ensemble_pred_valid[i][j]))<5:\n",
    "                rmse_valid[i,j] = calc_rmse(inv_transform(ensemble_pred_valid[i][j]),ref_data_valid[j])\n",
    "                rmse_NO2_valid[i,j] = calc_rmse_NO2(inv_transform(ensemble_pred_valid[i][j]),ref_data_valid[j])\n",
    "            else:\n",
    "                stable_ensemble_valid[i][j]=0"
   ]
  },
  {
   "cell_type": "code",
   "execution_count": 19,
   "id": "8d27a685",
   "metadata": {},
   "outputs": [
    {
     "name": "stderr",
     "output_type": "stream",
     "text": [
      "C:\\Users\\Dio\\AppData\\Local\\Temp\\ipykernel_24388\\4160806253.py:2: RuntimeWarning: Mean of empty slice\n",
      "  np.nanmean(rmse_NO2_valid, 1).shape\n"
     ]
    },
    {
     "data": {
      "text/plain": [
       "(1000,)"
      ]
     },
     "execution_count": 19,
     "metadata": {},
     "output_type": "execute_result"
    }
   ],
   "source": [
    "rmse_NO2_valid[rmse_NO2_valid==-1]=np.nan\n",
    "np.nanmean(rmse_NO2_valid, 1).shape"
   ]
  },
  {
   "cell_type": "code",
   "execution_count": 20,
   "id": "06263851",
   "metadata": {},
   "outputs": [
    {
     "name": "stderr",
     "output_type": "stream",
     "text": [
      "C:\\Users\\Dio\\AppData\\Local\\Temp\\ipykernel_24388\\1114135227.py:1: RuntimeWarning: Mean of empty slice\n",
      "  mean_rmse = np.nanmean(rmse_NO2_valid, 1)\n"
     ]
    }
   ],
   "source": [
    "mean_rmse = np.nanmean(rmse_NO2_valid, 1)\n",
    "mean_rmses = [(value, idx) for idx, value in enumerate(mean_rmse)]\n",
    "mean_rmses = [x for x in mean_rmses if not np.isnan(x[0])]\n",
    "mean_rmses.sort()\n",
    "ind = [x[1] for x in mean_rmses[:int(len(mean_rmse)*0.1)]]"
   ]
  },
  {
   "cell_type": "code",
   "execution_count": 21,
   "id": "40ecc5bd",
   "metadata": {},
   "outputs": [],
   "source": [
    "sorted_ind = [(x, y) for x, y in zip(ind, np.sum(stable_ensemble_valid, axis=1)[ind])]\n",
    "sorted_ind = sorted(sorted_ind, key=lambda x:x[1], reverse=True)\n",
    "sorted_ind = [x[0] for x in sorted_ind]"
   ]
  },
  {
   "cell_type": "markdown",
   "id": "48675ef5",
   "metadata": {},
   "source": [
    "### Prepare testing data"
   ]
  },
  {
   "cell_type": "code",
   "execution_count": 22,
   "id": "3b19b264",
   "metadata": {},
   "outputs": [],
   "source": [
    "d_test = h5py.File(\"data\\\\ref_data_test.jld\", \"r\")\n",
    "ref_params_test = d_test['ref_params_test'][:]\n",
    "ref_data_test = d_test['ref_data_test'][:]\n",
    "times_test = d_test['times_test'][:]"
   ]
  },
  {
   "cell_type": "code",
   "execution_count": 23,
   "id": "a2845198",
   "metadata": {},
   "outputs": [],
   "source": [
    "ref_param = np.empty((len(ref_params_test), 9))\n",
    "for i in range(len(ref_params_test)):\n",
    "    for j in range(9):\n",
    "        ref_param[i,j] = ref_params_test[i][j]\n",
    "ref_params_test = ref_param"
   ]
  },
  {
   "cell_type": "code",
   "execution_count": 24,
   "id": "3c932a02",
   "metadata": {},
   "outputs": [],
   "source": [
    "ref_data_test[:,:,0] = EO * ref_data_test[:,:,0]"
   ]
  },
  {
   "cell_type": "code",
   "execution_count": 25,
   "id": "8402429e",
   "metadata": {},
   "outputs": [],
   "source": [
    "multi_U_test1 = []\n",
    "    \n",
    "for i in range(ref_params_test.shape[0]):\n",
    "    p = ref_params_test[i][0]\n",
    "    T = ref_params_test[i][1]\n",
    "    pT = p*T\n",
    "    multi_U_test1.append(np.concatenate((ref_params_test[i][2:8], [pT], [ref_params_test[i][-1]]), axis = 0))"
   ]
  },
  {
   "cell_type": "code",
   "execution_count": 26,
   "id": "831312e4",
   "metadata": {
    "scrolled": true
   },
   "outputs": [],
   "source": [
    "reshaped_data_test = np.concatenate([ref_data_test[i] for i in range(ref_data_test.shape[0])])\n",
    "scaled_data_test = scalar.transform(reshaped_data_test)\n",
    "test_pca = [pca.transform(scaled_data_test[i*24*9: i*24*9+24*9, :]) for i in range(375)]"
   ]
  },
  {
   "cell_type": "code",
   "execution_count": 27,
   "id": "12008e61",
   "metadata": {},
   "outputs": [
    {
     "data": {
      "text/plain": [
       "0.003542537038324685"
      ]
     },
     "execution_count": 27,
     "metadata": {},
     "output_type": "execute_result"
    }
   ],
   "source": [
    "## reconstruction error\n",
    "np.sqrt(np.mean((np.stack([scalar.inverse_transform(pca.inverse_transform(test_pca[i])) for i in range(375)])-ref_data_test[:375])**2))"
   ]
  },
  {
   "cell_type": "markdown",
   "id": "8e3849f6",
   "metadata": {},
   "source": [
    "### Check the performance of top 10%best of 1000 ensemble members"
   ]
  },
  {
   "cell_type": "code",
   "execution_count": 28,
   "id": "511f88f7",
   "metadata": {},
   "outputs": [],
   "source": [
    "ensemble_coef = np.array(ensemble_coef)[ind]"
   ]
  },
  {
   "cell_type": "code",
   "execution_count": 29,
   "id": "a7e58aa5",
   "metadata": {},
   "outputs": [],
   "source": [
    "# np.save(\"result\\\\ensemble_coef_ESINDy_newdata_30per_row_30_col_depo_top_10_NO2.npy\", ensemble_coef)"
   ]
  },
  {
   "cell_type": "code",
   "execution_count": 30,
   "id": "b01e9045",
   "metadata": {},
   "outputs": [],
   "source": [
    "# ensemble_pred = []\n",
    "# stable_ensemble = []\n",
    "# for i in trange(len(ensemble_coef)):\n",
    "#     rhs = make_lsoda_func(ensemble_coef[i])\n",
    "#     funcptr = rhs.address\n",
    "#     u0s = np.stack(test_pca)[:,0,:]\n",
    "#     Us = np.stack(multi_U_test1)\n",
    "#     time_test = times_test-1500\n",
    "#     @nb.njit(parallel=True)\n",
    "#     def simulate():\n",
    "#         sol = np.empty((375, 216, 3))\n",
    "#         succ = np.empty(375)\n",
    "#         for i in nb.prange(375):\n",
    "#             u0 = u0s[i]\n",
    "#             p = Us[i]\n",
    "#             usol, success = lsoda(funcptr, u0, time_test, data = p, rtol=1.0e-3, atol=1.0e-6)\n",
    "#             if len(np.argwhere(np.isnan(usol)))!=0 or np.max(np.abs(usol))>50:\n",
    "#                 success = 0\n",
    "#             sol[i] = usol\n",
    "#             succ[i] = success\n",
    "#         return sol, succ\n",
    "#     sims, succ = simulate()\n",
    "#     ensemble_pred.append(sims)\n",
    "#     stable_ensemble.append(succ)"
   ]
  },
  {
   "cell_type": "code",
   "execution_count": 31,
   "id": "63953bbb",
   "metadata": {},
   "outputs": [],
   "source": [
    "# np.save(\"result\\\\1000_ensemble_375_test_ESINDy_top_10_depo_NO2.npy\", ensemble_pred)\n",
    "# np.save(\"result\\\\1000_ensemble_375_test_ESINDy_stable_top_10_depo_NO2.npy\", stable_ensemble)"
   ]
  },
  {
   "cell_type": "code",
   "execution_count": 32,
   "id": "28b712cc",
   "metadata": {},
   "outputs": [],
   "source": [
    "with open(\"result\\\\1000_ensemble_375_test_ESINDy_top_10_depo_NO2.npy\", 'rb') as f:\n",
    "        ensemble_pred = np.load(f)\n",
    "with open(\"result\\\\1000_ensemble_375_test_ESINDy_stable_top_10_depo_NO2.npy\", 'rb') as f:\n",
    "        stable_ensemble = np.load(f)"
   ]
  },
  {
   "cell_type": "code",
   "execution_count": 33,
   "id": "4da14e1b",
   "metadata": {},
   "outputs": [],
   "source": [
    "def calc_rmse(prediction, reference):\n",
    "    prediction = prediction.copy()\n",
    "    reference = reference.copy()\n",
    "    if len(reference.shape) == 3:\n",
    "        reference[:,:,0] =  reference[:,:,0] / EO\n",
    "        prediction[:,:,0] =  prediction[:,:,0] / EO\n",
    "    else:\n",
    "        reference[:,0] =  reference[:,0] / EO\n",
    "        prediction[:,0] =  prediction[:,0] / EO\n",
    "    return np.sqrt(np.mean((prediction - reference)**2))\n",
    "\n",
    "def calc_rmse_NO2(prediction, reference):\n",
    "    prediction = prediction.copy()\n",
    "    reference = reference.copy()\n",
    "    if len(reference.shape) == 3:\n",
    "        r =  reference[:,:,0] / EO\n",
    "        p =  prediction[:,:,0] / EO\n",
    "    else:\n",
    "        r =  reference[:,0] / EO\n",
    "        p =  prediction[:,0] / EO\n",
    "    return np.sqrt(np.mean((p - r)**2))"
   ]
  },
  {
   "cell_type": "code",
   "execution_count": 34,
   "id": "91c94bf0",
   "metadata": {},
   "outputs": [
    {
     "name": "stderr",
     "output_type": "stream",
     "text": [
      "100%|████████████████████████████████████████████████████████████████████████████████| 100/100 [00:02<00:00, 45.37it/s]\n"
     ]
    }
   ],
   "source": [
    "mse = -np.ones(np.stack(stable_ensemble).shape)\n",
    "mse_NO2 = -np.ones(np.stack(stable_ensemble).shape)\n",
    "def inv_transform(x):\n",
    "    return scalar.inverse_transform(pca.inverse_transform(x))\n",
    "\n",
    "\n",
    "for i in trange(100):\n",
    "    for j in range(375):\n",
    "        if stable_ensemble[i][j]==1:\n",
    "            if np.max(abs(ensemble_pred[i][j]))<5:\n",
    "                mse[i,j] = calc_rmse(inv_transform(ensemble_pred[i][j]),ref_data_test[j])\n",
    "                mse_NO2[i,j] = calc_rmse_NO2(inv_transform(ensemble_pred[i][j]),ref_data_test[j])\n",
    "            else:\n",
    "                stable_ensemble[i][j]=0"
   ]
  },
  {
   "cell_type": "code",
   "execution_count": 35,
   "id": "3193ee03",
   "metadata": {
    "scrolled": true
   },
   "outputs": [
    {
     "name": "stderr",
     "output_type": "stream",
     "text": [
      "100%|███████████████████████████████████████████████████████████████████████████████| 375/375 [00:00<00:00, 399.74it/s]\n"
     ]
    }
   ],
   "source": [
    "mean_sims = []\n",
    "above_sims = []\n",
    "below_sims = []\n",
    "for j in trange(375):\n",
    "    temp = []\n",
    "    for i in range(100):\n",
    "        if stable_ensemble[i][j]==1:\n",
    "            if np.max(abs(ensemble_pred[i][j]))<5:\n",
    "                temp.append(inv_transform(ensemble_pred[i][j]))\n",
    "            else:\n",
    "                stable_ensemble[i][j]=0\n",
    "    mean_sims.append(np.mean(temp, axis=0))"
   ]
  },
  {
   "cell_type": "code",
   "execution_count": 36,
   "id": "8014355b",
   "metadata": {},
   "outputs": [
    {
     "name": "stdout",
     "output_type": "stream",
     "text": [
      "0.0252\n",
      "60.7\n",
      "0.0007\n",
      "93.6\n",
      "32.0\n"
     ]
    }
   ],
   "source": [
    "rmse = calc_rmse(np.stack(mean_sims), ref_data_test)\n",
    "rmse_inc = -(rmse - 0.0642)/0.0642 *100 #0.09570181614919997\n",
    "rmse_NO2 = calc_rmse_NO2(np.stack(mean_sims), ref_data_test)\n",
    "rmse_inc_NO2 = -(rmse_NO2 - 0.0114)/0.0114 *100\n",
    "\n",
    "# RMSE of original species\n",
    "print(round(rmse, 4))\n",
    "# improvement RMSE of original species as compared to SINDy\n",
    "print(round(rmse_inc, 1))\n",
    "# RMSE of ozone\n",
    "print(round(rmse_NO2, 4))\n",
    "# improvement RMSE of ozone as compared to SINDy\n",
    "print(round(rmse_inc_NO2, 1))\n",
    "# stable solution rate\n",
    "print(round(np.sum(stable_ensemble)/100/375 *100, 0))"
   ]
  },
  {
   "cell_type": "markdown",
   "id": "f173457d",
   "metadata": {},
   "source": [
    "## 3. Uncertainty quantification\n",
    "### Check inclusion of reference value in the confidence interval and calibration of uncertainty quantification"
   ]
  },
  {
   "cell_type": "code",
   "execution_count": 37,
   "id": "236f5c6b",
   "metadata": {},
   "outputs": [
    {
     "data": {
      "text/plain": [
       "array([ 0.,  5., 10., 15., 20., 25., 30., 35., 40., 45., 50., 55., 60.,\n",
       "       65., 70., 75., 80., 85., 90., 95.])"
      ]
     },
     "execution_count": 37,
     "metadata": {},
     "output_type": "execute_result"
    }
   ],
   "source": [
    "CI_percentage = np.linspace(0,95, 20)\n",
    "CI_percentage"
   ]
  },
  {
   "cell_type": "code",
   "execution_count": 38,
   "id": "df5caadb",
   "metadata": {},
   "outputs": [
    {
     "name": "stderr",
     "output_type": "stream",
     "text": [
      "100%|██████████████████████████████████████████████████████████████████████████████| 375/375 [00:00<00:00, 1033.39it/s]\n",
      "100%|███████████████████████████████████████████████████████████████████████████████| 375/375 [00:00<00:00, 880.06it/s]\n",
      "100%|███████████████████████████████████████████████████████████████████████████████| 375/375 [00:00<00:00, 813.09it/s]\n",
      "100%|███████████████████████████████████████████████████████████████████████████████| 375/375 [00:00<00:00, 802.20it/s]\n",
      "100%|███████████████████████████████████████████████████████████████████████████████| 375/375 [00:00<00:00, 763.15it/s]\n",
      "100%|███████████████████████████████████████████████████████████████████████████████| 375/375 [00:00<00:00, 712.91it/s]\n",
      "100%|███████████████████████████████████████████████████████████████████████████████| 375/375 [00:00<00:00, 707.19it/s]\n",
      "100%|███████████████████████████████████████████████████████████████████████████████| 375/375 [00:00<00:00, 696.08it/s]\n",
      "100%|███████████████████████████████████████████████████████████████████████████████| 375/375 [00:00<00:00, 680.70it/s]\n",
      "100%|███████████████████████████████████████████████████████████████████████████████| 375/375 [00:00<00:00, 670.63it/s]\n",
      "100%|███████████████████████████████████████████████████████████████████████████████| 375/375 [00:00<00:00, 692.79it/s]\n",
      "100%|███████████████████████████████████████████████████████████████████████████████| 375/375 [00:00<00:00, 661.74it/s]\n",
      "100%|███████████████████████████████████████████████████████████████████████████████| 375/375 [00:00<00:00, 660.08it/s]\n",
      "100%|███████████████████████████████████████████████████████████████████████████████| 375/375 [00:00<00:00, 659.95it/s]\n",
      "100%|███████████████████████████████████████████████████████████████████████████████| 375/375 [00:00<00:00, 672.41it/s]\n",
      "100%|███████████████████████████████████████████████████████████████████████████████| 375/375 [00:00<00:00, 673.83it/s]\n",
      "100%|███████████████████████████████████████████████████████████████████████████████| 375/375 [00:00<00:00, 727.72it/s]\n",
      "100%|███████████████████████████████████████████████████████████████████████████████| 375/375 [00:00<00:00, 736.98it/s]\n",
      "100%|███████████████████████████████████████████████████████████████████████████████| 375/375 [00:00<00:00, 681.32it/s]\n",
      "100%|███████████████████████████████████████████████████████████████████████████████| 375/375 [00:00<00:00, 666.48it/s]\n"
     ]
    }
   ],
   "source": [
    "inclusion_3pc = []\n",
    "for ci in CI_percentage:\n",
    "    mean_sims = []\n",
    "    above_sims = []\n",
    "    below_sims = []\n",
    "    for j in trange(375):\n",
    "        temp = []\n",
    "        for i in range(100):\n",
    "            if stable_ensemble[i][j]==1:\n",
    "                if np.max(abs(ensemble_pred[i][j]))<5:\n",
    "                    temp.append(ensemble_pred[i][j])\n",
    "                else:\n",
    "                    stable_ensemble[i][j]=0\n",
    "        mean_sims.append(np.mean(temp, axis=0))\n",
    "        above_sims.append(np.percentile(np.stack(temp), 100-ci/2, axis=0))\n",
    "        below_sims.append(np.percentile(np.stack(temp), ci/2, axis=0))\n",
    "    inclusion_3pc.append(np.mean((np.stack(above_sims)>=test_pca) * (np.stack(below_sims)<=test_pca), (0,1)))"
   ]
  },
  {
   "cell_type": "code",
   "execution_count": 39,
   "id": "6fca724b",
   "metadata": {},
   "outputs": [
    {
     "data": {
      "text/plain": [
       "array([0.04804938, 0.09081481, 0.13219753, 0.17259259, 0.21330864,\n",
       "       0.25446914, 0.29220988, 0.33434568, 0.37504938, 0.41498765,\n",
       "       0.45637037, 0.49824691, 0.54032099, 0.58645679, 0.63304938,\n",
       "       0.68201235, 0.73375309, 0.78860494, 0.8505679 , 0.89902469])"
      ]
     },
     "execution_count": 39,
     "metadata": {},
     "output_type": "execute_result"
    }
   ],
   "source": [
    "np.stack(inclusion_3pc)[::-1,0]"
   ]
  },
  {
   "cell_type": "code",
   "execution_count": 40,
   "id": "029a3e15",
   "metadata": {},
   "outputs": [
    {
     "name": "stdout",
     "output_type": "stream",
     "text": [
      "0.914155968888843\n",
      "0.9698150255382397\n",
      "0.9802678050407225\n"
     ]
    }
   ],
   "source": [
    "from sklearn.metrics import r2_score\n",
    "### Calculate reliability or calibration of uncertainty quantification\n",
    "for i in range(3):\n",
    "    print(r2_score( CI_percentage/100+0.05 ,np.stack(inclusion_3pc)[::-1,i]))"
   ]
  },
  {
   "cell_type": "code",
   "execution_count": 41,
   "id": "cf1474a9",
   "metadata": {},
   "outputs": [
    {
     "data": {
      "text/plain": [
       "array([[[3.30353618e+00, 3.85657170e-02, 7.66520554e-01, ...,\n",
       "         9.21383409e-06, 2.51258346e-09, 1.58133177e-06],\n",
       "        [3.25847730e+00, 4.37981717e-02, 8.35398089e-01, ...,\n",
       "         6.69179265e-05, 1.27178698e-08, 1.01173926e-05],\n",
       "        [3.19896113e+00, 4.79089306e-02, 9.03053252e-01, ...,\n",
       "         1.89364390e-04, 2.69243989e-08, 2.18788475e-05],\n",
       "        ...,\n",
       "        [3.35912985e+00, 2.21877810e-02, 6.97144120e-01, ...,\n",
       "         7.46202608e-05, 1.95764201e-08, 1.96441701e-05],\n",
       "        [3.36464248e+00, 2.74327419e-02, 7.63445723e-01, ...,\n",
       "         3.33872685e-05, 5.17801347e-09, 5.69869689e-06],\n",
       "        [3.34914824e+00, 3.30805277e-02, 8.31601447e-01, ...,\n",
       "         4.78280795e-06, 1.30093010e-10, 2.83101773e-07]],\n",
       "\n",
       "       [[5.79140879e+00, 2.19822645e-02, 3.12955713e-01, ...,\n",
       "         1.23705643e-04, 4.16780588e-08, 7.40008005e-05],\n",
       "        [5.78380078e+00, 2.68991518e-02, 3.36040435e-01, ...,\n",
       "         7.42255732e-05, 2.13969376e-08, 3.95492090e-05],\n",
       "        [5.78275404e+00, 3.23262805e-02, 3.59736358e-01, ...,\n",
       "         2.74970761e-05, 5.53177917e-09, 1.15497559e-05],\n",
       "        ...,\n",
       "        [5.98420322e+00, 8.31438673e-03, 2.70421952e-01, ...,\n",
       "         2.36769424e-04, 7.04233718e-08, 1.43836391e-04],\n",
       "        [5.75667569e+00, 1.29563829e-02, 2.92829122e-01, ...,\n",
       "         1.70157872e-04, 7.37544573e-08, 1.24873658e-04],\n",
       "        [5.74827028e+00, 1.73449852e-02, 3.14943429e-01, ...,\n",
       "         1.59186310e-04, 6.14581770e-08, 1.05894183e-04]],\n",
       "\n",
       "       [[2.31980216e+00, 1.39988209e-03, 6.54975615e-01, ...,\n",
       "         4.50225258e-04, 1.45940352e-06, 1.03040702e-03],\n",
       "        [2.11055427e+00, 9.81174550e-04, 5.48861836e-01, ...,\n",
       "         3.29623521e-04, 1.78410675e-06, 1.15277576e-03],\n",
       "        [1.96820395e+00, 8.60128138e-04, 4.47945622e-01, ...,\n",
       "         3.09545373e-04, 2.01221324e-06, 1.21958334e-03],\n",
       "        ...,\n",
       "        [3.53789280e+00, 2.51541599e-02, 8.47926449e-01, ...,\n",
       "         4.80343264e-04, 1.64611894e-07, 1.39835192e-04],\n",
       "        [3.06724903e+00, 1.32989983e-02, 8.37821195e-01, ...,\n",
       "         1.50162974e-03, 6.79621657e-07, 6.08372065e-04],\n",
       "        [2.61890110e+00, 3.81978859e-03, 7.72317641e-01, ...,\n",
       "         9.78018995e-04, 1.08436246e-06, 8.57323756e-04]],\n",
       "\n",
       "       ...,\n",
       "\n",
       "       [[4.56403663e+00, 2.04987432e-02, 3.97563901e-01, ...,\n",
       "         8.11493354e-05, 3.06588429e-08, 4.55912625e-05],\n",
       "        [4.58596718e+00, 2.51442568e-02, 4.32932943e-01, ...,\n",
       "         4.00296825e-05, 1.08759667e-08, 1.74970390e-05],\n",
       "        [4.58101405e+00, 3.02312500e-02, 4.68804034e-01, ...,\n",
       "         8.36855245e-06, 8.24619681e-10, 1.92349323e-06],\n",
       "        ...,\n",
       "        [4.33315998e+00, 8.69743859e-03, 3.05828617e-01, ...,\n",
       "         1.36479043e-04, 8.39322060e-08, 1.09860521e-04],\n",
       "        [4.42289331e+00, 1.24760183e-02, 3.40008337e-01, ...,\n",
       "         1.35896899e-04, 7.41958857e-08, 1.01139380e-04],\n",
       "        [4.50749411e+00, 1.63009371e-02, 3.74148590e-01, ...,\n",
       "         1.16876642e-04, 5.39701641e-08, 7.66526987e-05]],\n",
       "\n",
       "       [[1.26571430e+00, 1.05730300e-03, 3.11809391e-01, ...,\n",
       "         3.88202559e-04, 2.07479948e-06, 8.86412082e-04],\n",
       "        [1.26625164e+00, 1.09757287e-03, 2.65356244e-01, ...,\n",
       "         3.71843777e-04, 1.96085688e-06, 8.43327297e-04],\n",
       "        [1.33675821e+00, 1.24650048e-03, 2.39137181e-01, ...,\n",
       "         3.60751277e-04, 1.65001531e-06, 7.54252214e-04],\n",
       "        ...,\n",
       "        [1.58899662e+00, 1.62406939e-03, 5.84325448e-01, ...,\n",
       "         5.44544279e-04, 1.43715270e-06, 7.60487537e-04],\n",
       "        [1.44954081e+00, 1.26447452e-03, 4.93848202e-01, ...,\n",
       "         4.48118973e-04, 1.71195915e-06, 8.30039029e-04],\n",
       "        [1.34611427e+00, 1.12005676e-03, 4.08650705e-01, ...,\n",
       "         4.16097825e-04, 1.92710583e-06, 8.71078066e-04]],\n",
       "\n",
       "       [[4.79193684e+00, 4.79735001e-02, 8.18903226e-01, ...,\n",
       "         5.73786288e-06, 1.10260464e-09, 1.14288325e-06],\n",
       "        [4.83751547e+00, 5.49593307e-02, 8.80830509e-01, ...,\n",
       "         6.37177516e-05, 1.07524279e-08, 1.62626976e-05],\n",
       "        [4.87095693e+00, 6.05850989e-02, 9.40661037e-01, ...,\n",
       "         2.03150194e-04, 2.55978233e-08, 4.09379435e-05],\n",
       "        ...,\n",
       "        [4.63124801e+00, 2.68766903e-02, 6.61328538e-01, ...,\n",
       "         1.05963953e-04, 2.42059875e-08, 4.31679373e-05],\n",
       "        [4.69096059e+00, 3.33731334e-02, 7.23956005e-01, ...,\n",
       "         5.29080761e-05, 7.67673916e-09, 1.48930064e-05],\n",
       "        [4.75007876e+00, 4.05335019e-02, 7.87197844e-01, ...,\n",
       "         1.11698337e-05, 5.16405307e-10, 1.46771146e-06]]])"
      ]
     },
     "execution_count": 41,
     "metadata": {},
     "output_type": "execute_result"
    }
   ],
   "source": [
    "ref_data_test"
   ]
  },
  {
   "cell_type": "code",
   "execution_count": 42,
   "id": "d0a1b7f3",
   "metadata": {
    "scrolled": true
   },
   "outputs": [
    {
     "name": "stderr",
     "output_type": "stream",
     "text": [
      "100%|███████████████████████████████████████████████████████████████████████████████| 375/375 [00:01<00:00, 216.07it/s]\n",
      "100%|███████████████████████████████████████████████████████████████████████████████| 375/375 [00:01<00:00, 195.58it/s]\n",
      "100%|███████████████████████████████████████████████████████████████████████████████| 375/375 [00:01<00:00, 188.83it/s]\n",
      "100%|███████████████████████████████████████████████████████████████████████████████| 375/375 [00:02<00:00, 185.33it/s]\n",
      "100%|███████████████████████████████████████████████████████████████████████████████| 375/375 [00:02<00:00, 182.14it/s]\n",
      "100%|███████████████████████████████████████████████████████████████████████████████| 375/375 [00:02<00:00, 174.40it/s]\n",
      "100%|███████████████████████████████████████████████████████████████████████████████| 375/375 [00:02<00:00, 174.87it/s]\n",
      "100%|███████████████████████████████████████████████████████████████████████████████| 375/375 [00:02<00:00, 169.04it/s]\n",
      "100%|███████████████████████████████████████████████████████████████████████████████| 375/375 [00:02<00:00, 169.64it/s]\n",
      "100%|███████████████████████████████████████████████████████████████████████████████| 375/375 [00:02<00:00, 177.58it/s]\n",
      "100%|███████████████████████████████████████████████████████████████████████████████| 375/375 [00:02<00:00, 169.26it/s]\n",
      "100%|███████████████████████████████████████████████████████████████████████████████| 375/375 [00:02<00:00, 164.78it/s]\n",
      "100%|███████████████████████████████████████████████████████████████████████████████| 375/375 [00:02<00:00, 145.95it/s]\n",
      "100%|███████████████████████████████████████████████████████████████████████████████| 375/375 [00:02<00:00, 148.48it/s]\n",
      "100%|███████████████████████████████████████████████████████████████████████████████| 375/375 [00:02<00:00, 141.38it/s]\n",
      "100%|███████████████████████████████████████████████████████████████████████████████| 375/375 [00:02<00:00, 144.31it/s]\n",
      "100%|███████████████████████████████████████████████████████████████████████████████| 375/375 [00:02<00:00, 150.96it/s]\n",
      "100%|███████████████████████████████████████████████████████████████████████████████| 375/375 [00:02<00:00, 155.85it/s]\n",
      "100%|███████████████████████████████████████████████████████████████████████████████| 375/375 [00:02<00:00, 150.35it/s]\n",
      "100%|███████████████████████████████████████████████████████████████████████████████| 375/375 [00:02<00:00, 152.00it/s]\n"
     ]
    }
   ],
   "source": [
    "inclusion_11species = []\n",
    "for ci in CI_percentage:\n",
    "    mean_sims = []\n",
    "    above_sims = []\n",
    "    below_sims = []\n",
    "    for j in trange(375):\n",
    "        temp = []\n",
    "        for i in range(100):\n",
    "            if stable_ensemble[i][j]==1:\n",
    "                if np.max(abs(ensemble_pred[i][j]))<5:\n",
    "                    temp.append(inv_transform(ensemble_pred[i][j]))\n",
    "                else:\n",
    "                    stable_ensemble[i][j]=0\n",
    "        mean_sims.append(np.mean(temp, axis=0))\n",
    "        above_sims.append(np.percentile(np.stack(temp), 100-ci/2, axis=0))\n",
    "        below_sims.append(np.percentile(np.stack(temp), ci/2, axis=0))\n",
    "    inclusion_11species.append(np.mean((np.stack(above_sims)>=ref_data_test) * (np.stack(below_sims)<=ref_data_test), (0,1)))"
   ]
  },
  {
   "cell_type": "code",
   "execution_count": 43,
   "id": "a77ee154",
   "metadata": {},
   "outputs": [],
   "source": [
    "def r2_s(y_true, y_pred):\n",
    "    sst = sum((y_true-np.mean(y_true))**2)\n",
    "    ssr = sum((y_true-y_pred)**2)\n",
    "    return 1-ssr/sst"
   ]
  },
  {
   "cell_type": "code",
   "execution_count": 44,
   "id": "c66dbb6e",
   "metadata": {},
   "outputs": [],
   "source": [
    "### Calculate reliability or calibration of uncertainty quantification\n",
    "specs = [ 'NO$_2$', 'HCHO', 'H$_2$O$_2$', 'NO', 'O', 'O$_3$', 'HO$_2$', 'CO', 'H$_2$', 'HO', 'HNO$_3$']\n",
    "r2_ = []\n",
    "for i in range(11):\n",
    "    r2_.append(r2_s( CI_percentage/100+0.05, np.stack(inclusion_11species)[::-1,i]))"
   ]
  },
  {
   "cell_type": "code",
   "execution_count": 45,
   "id": "30f123aa",
   "metadata": {},
   "outputs": [
    {
     "data": {
      "text/html": [
       "<div>\n",
       "<style scoped>\n",
       "    .dataframe tbody tr th:only-of-type {\n",
       "        vertical-align: middle;\n",
       "    }\n",
       "\n",
       "    .dataframe tbody tr th {\n",
       "        vertical-align: top;\n",
       "    }\n",
       "\n",
       "    .dataframe thead th {\n",
       "        text-align: right;\n",
       "    }\n",
       "</style>\n",
       "<table border=\"1\" class=\"dataframe\">\n",
       "  <thead>\n",
       "    <tr style=\"text-align: right;\">\n",
       "      <th></th>\n",
       "      <th>NO$_2$</th>\n",
       "      <th>HCHO</th>\n",
       "      <th>H$_2$O$_2$</th>\n",
       "      <th>NO</th>\n",
       "      <th>O</th>\n",
       "      <th>O$_3$</th>\n",
       "      <th>HO$_2$</th>\n",
       "      <th>CO</th>\n",
       "      <th>H$_2$</th>\n",
       "      <th>HO</th>\n",
       "      <th>HNO$_3$</th>\n",
       "    </tr>\n",
       "  </thead>\n",
       "  <tbody>\n",
       "    <tr>\n",
       "      <th>0</th>\n",
       "      <td>0.905936</td>\n",
       "      <td>-0.7726</td>\n",
       "      <td>0.958729</td>\n",
       "      <td>-1.476102</td>\n",
       "      <td>-0.565363</td>\n",
       "      <td>0.994816</td>\n",
       "      <td>-0.011012</td>\n",
       "      <td>-1.257549</td>\n",
       "      <td>-1.243158</td>\n",
       "      <td>0.417341</td>\n",
       "      <td>-0.078719</td>\n",
       "    </tr>\n",
       "  </tbody>\n",
       "</table>\n",
       "</div>"
      ],
      "text/plain": [
       "     NO$_2$    HCHO  H$_2$O$_2$        NO         O     O$_3$    HO$_2$  \\\n",
       "0  0.905936 -0.7726    0.958729 -1.476102 -0.565363  0.994816 -0.011012   \n",
       "\n",
       "         CO     H$_2$        HO   HNO$_3$  \n",
       "0 -1.257549 -1.243158  0.417341 -0.078719  "
      ]
     },
     "execution_count": 45,
     "metadata": {},
     "output_type": "execute_result"
    }
   ],
   "source": [
    "import pandas as pd\n",
    "df = pd.DataFrame([r2_], columns = specs)\n",
    "df"
   ]
  },
  {
   "cell_type": "code",
   "execution_count": 46,
   "id": "fcca1dce",
   "metadata": {},
   "outputs": [
    {
     "name": "stdout",
     "output_type": "stream",
     "text": [
      "3.5571297709390026\n",
      "2.2004163439068627\n",
      "0.001806514517169734\n",
      "[2.20041634e+00 3.89361814e-04 5.96136743e-02 1.27038260e-06\n",
      " 1.65242168e-19 1.80651452e-03 3.36971470e-07 1.76361450e-08\n",
      " 3.86914997e-07 4.79311025e-13 3.36269672e-07]\n"
     ]
    }
   ],
   "source": [
    "print(np.max(np.abs(test_pca)))\n",
    "print(np.var(ref_data_test, axis=(0,1))[0])\n",
    "print(np.var(ref_data_test, axis=(0,1))[5])\n",
    "print(np.var(ref_data_test, axis=(0,1)))"
   ]
  },
  {
   "cell_type": "code",
   "execution_count": 47,
   "id": "2baf6694",
   "metadata": {},
   "outputs": [
    {
     "name": "stderr",
     "output_type": "stream",
     "text": [
      "100%|██████████████████████████████████████████████████████████████████████████████████| 14/14 [07:09<00:00, 30.70s/it]\n"
     ]
    }
   ],
   "source": [
    "sorted_array_with_indices = sorted(enumerate(sorted_ind), key=lambda x: x[1])\n",
    "ranked_ind = [0] * len(sorted_ind)\n",
    "for rank, (original_index, _) in enumerate(sorted_array_with_indices, start=1):\n",
    "    ranked_ind[original_index] = rank\n",
    "ranked_ind = np.array(ranked_ind)-1\n",
    "## Generate plot of R2_NO2 vs number of ensembles\n",
    "def r2s(grids):\n",
    "    res = []\n",
    "    for grid in tqdm.tqdm(grids):\n",
    "        inclusion_11species = []\n",
    "        for ci in CI_percentage:\n",
    "            mean_sims = []\n",
    "            above_sims = []\n",
    "            below_sims = []\n",
    "            for j in range(375):\n",
    "                temp = []\n",
    "                for i in ranked_ind[:grid]:\n",
    "                    if stable_ensemble[i][j]==1:\n",
    "                        temp.append(inv_transform(ensemble_pred[i][j]))\n",
    "                mean_sims.append(np.mean(temp, axis=0))\n",
    "                above_sims.append(np.percentile(np.stack(temp), 100-ci/2, axis=0))\n",
    "                below_sims.append(np.percentile(np.stack(temp), ci/2, axis=0))\n",
    "            inclusion_11species.append(np.mean((np.stack(above_sims)>=ref_data_test) * (np.stack(below_sims)<=ref_data_test), (0,1)))\n",
    "        res.append(r2_s( CI_percentage/100+0.05, np.stack(inclusion_11species)[::-1,specs.index('NO$_2$')]))\n",
    "    return res\n",
    "grids = np.arange(35, 105, 5)  \n",
    "r2s_NO2 = r2s(grids)"
   ]
  },
  {
   "cell_type": "code",
   "execution_count": 48,
   "id": "f3013657",
   "metadata": {},
   "outputs": [
    {
     "data": {
      "image/png": "[encoded data removed]",
      "text/plain": [
       "<Figure size 400x300 with 1 Axes>"
      ]
     },
     "metadata": {},
     "output_type": "display_data"
    }
   ],
   "source": [
    "import seaborn as sns\n",
    "plt.figure(figsize=(4,3))\n",
    "plt.scatter(grids, r2s_NO2)\n",
    "plt.ylabel(\"R$^2$ of calibration curve for NO$_2$\")\n",
    "plt.xlabel(\"Number of ensemble members\")\n",
    "plt.savefig('figure\\\\r2calibration_NO2.svg', format='svg', dpi=1200, bbox_inches=\"tight\")\n",
    "plt.show()"
   ]
  },
  {
   "cell_type": "code",
   "execution_count": 49,
   "id": "88c8358f",
   "metadata": {},
   "outputs": [
    {
     "data": {
      "text/plain": [
       "array([0.92232099, 0.8809465 , 0.82516461, 0.77190123, 0.72011111,\n",
       "       0.67125103, 0.62296708, 0.57634568, 0.53163786, 0.48788066,\n",
       "       0.44485597, 0.40125926, 0.35676132, 0.31172016, 0.2684321 ,\n",
       "       0.22406584, 0.17985597, 0.1355679 , 0.09165432, 0.04833745])"
      ]
     },
     "execution_count": 49,
     "metadata": {},
     "output_type": "execute_result"
    }
   ],
   "source": [
    "np.mean(inclusion_3pc, 1)"
   ]
  },
  {
   "cell_type": "code",
   "execution_count": 50,
   "id": "35f87edb",
   "metadata": {},
   "outputs": [
    {
     "data": {
      "text/plain": [
       "array([0.62145342, 0.55780247, 0.50437935, 0.46140853, 0.42333221,\n",
       "       0.38917284, 0.35806846, 0.32867228, 0.29997306, 0.27288777,\n",
       "       0.24592144, 0.22005051, 0.19456117, 0.16875533, 0.14365544,\n",
       "       0.11867116, 0.09447138, 0.07121886, 0.04740965, 0.02387654])"
      ]
     },
     "execution_count": 50,
     "metadata": {},
     "output_type": "execute_result"
    }
   ],
   "source": [
    "np.mean(inclusion_11species,1)"
   ]
  },
  {
   "cell_type": "code",
   "execution_count": 51,
   "id": "cc556621",
   "metadata": {},
   "outputs": [
    {
     "data": {
      "text/plain": [
       "array([0.89503704, 0.84624691, 0.78418519, 0.7291358 , 0.67788889,\n",
       "       0.6282716 , 0.58209877, 0.53561728, 0.49332099, 0.45211111,\n",
       "       0.41071605, 0.37054321, 0.32990123, 0.28862963, 0.25002469,\n",
       "       0.20909877, 0.1678642 , 0.12765432, 0.08604938, 0.04362963])"
      ]
     },
     "execution_count": 51,
     "metadata": {},
     "output_type": "execute_result"
    }
   ],
   "source": [
    "np.stack(inclusion_11species)[:,0]"
   ]
  },
  {
   "cell_type": "code",
   "execution_count": 52,
   "id": "94b7de0d",
   "metadata": {
    "scrolled": true
   },
   "outputs": [
    {
     "data": {
      "image/png": "[encoded data removed]",
      "text/plain": [
       "<Figure size 800x300 with 2 Axes>"
      ]
     },
     "metadata": {},
     "output_type": "display_data"
    }
   ],
   "source": [
    "x_axis = ((CI_percentage[::-1]+5)/100).tolist()\n",
    "fig, (ax1, ax2) = plt.subplots(1, 2, figsize = (8,3))\n",
    "\n",
    "legend_elements1 = [Line2D([0], [0], color='r', linestyle='--', lw=2, label='Perfect Calibration'),\n",
    "                    Line2D([0], [0], marker='o', color='red', markerfacecolor='red', label='c$_1$', ls = ''),\n",
    "                  Line2D([0], [0], marker='o', color='blue', markerfacecolor='blue', label='c$_2$', ls = ''),\n",
    "                  Line2D([0], [0], marker='o', color='green', markerfacecolor='green', label='c$_3$', ls = '')]\n",
    "\n",
    "    \n",
    "ax1.set_prop_cycle(color=['red','blue','green'])\n",
    "\n",
    "\n",
    "colors=['red','blue','green', 'yellow', 'cyan', 'purple', 'brown', 'orange', 'magenta', 'grey', 'olive']\n",
    "specs = [ 'NO$_2$', 'HCHO', 'H$_2$O$_2$', 'NO', 'O', 'O$_3$', 'HO$_2$', 'CO', 'H$_2$', 'HO', 'HNO$_3$']\n",
    "n = len(colors)\n",
    "\n",
    "legend_elements2 = [Line2D([0], [0], color='r', linestyle='--', lw=2, label='Perfect Calibration')]\n",
    "\n",
    "legend_elements2 += [Line2D([0], [0], marker='o', color=colors[i], markerfacecolor=colors[i], label=specs[i], ls = '') for i in range(n//2+1)]\n",
    "legend_elements2 += [Patch(color=None, label='', alpha=0)]\n",
    "legend_elements2 += [Line2D([0], [0], marker='o', color=colors[i], markerfacecolor=colors[i], label=specs[i], ls = '') for i in range(n//2+1, n)]\n",
    "ax2.set_prop_cycle(color=colors)\n",
    "\n",
    "for i in range(np.stack(inclusion_3pc).shape[1]):\n",
    "    ax1.scatter(x_axis, np.stack(inclusion_3pc)[:,i])\n",
    "for i in range(np.stack(inclusion_11species).shape[1]):\n",
    "    ax2.scatter(x_axis, np.stack(inclusion_11species)[:,i])\n",
    "\n",
    "ax1.legend(handles=legend_elements1, loc = 'upper left', prop={'size': 6.5})\n",
    "ax2.legend(handles=legend_elements2, ncol = 2, prop={'size': 6.5}, columnspacing=-5)\n",
    "ax1.set_ylabel(\"Fraction included in the CI\")\n",
    "ax1.set_xlabel(\"Confidence level\")\n",
    "ax2.set_xlabel(\"Confidence level\")\n",
    "ax1.set_xlim(0, 1.0)\n",
    "ax2.set_xlim(0, 1.0)\n",
    "ax1.set_ylim(0, 1.0)\n",
    "ax2.set_ylim(0, 1.0)\n",
    "ax1.set_title(\"(a)\")\n",
    "ax2.set_title(\"(b)\")\n",
    "ax1.axline((0, 0), (1, 1), linewidth=2, color='r', linestyle=\"--\")\n",
    "ax2.axline((0, 0), (1, 1), linewidth=2, color='r', linestyle=\"--\")\n",
    "# plt.show()\n",
    "\n",
    "plt.savefig('figure\\\\calibration_NO2.svg', format='svg', dpi=1200, bbox_inches=\"tight\")"
   ]
  },
  {
   "cell_type": "code",
   "execution_count": null,
   "id": "65ac137b",
   "metadata": {},
   "outputs": [],
   "source": []
  }
 ],
 "metadata": {
  "kernelspec": {
   "display_name": "Python 3 (ipykernel)",
   "language": "python",
   "name": "python3"
  },
  "language_info": {
   "codemirror_mode": {
    "name": "ipython",
    "version": 3
   },
   "file_extension": ".py",
   "mimetype": "text/x-python",
   "name": "python",
   "nbconvert_exporter": "python",
   "pygments_lexer": "ipython3",
   "version": "3.10.12"
  }
 },
 "nbformat": 4,
 "nbformat_minor": 5
}
